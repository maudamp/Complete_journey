{
 "cells": [
  {
   "cell_type": "markdown",
   "metadata": {},
   "source": [
    "DataBase Description:\n",
    "The Complete Journey\n",
    "Source: Dunnhumby\n",
    "Description:\n",
    "completejourney provides access to data sets characterizing household level transactions over one year from a group of 2,469 households who are frequent shoppers at a grocery store. It contains all of each household’s purchases, not just those from a limited number of categories. For certain households, demographic information as well as direct marketing contact history are captured.\n",
    "There are eight built-in data sets available in this package. The data sets include:\n",
    "\n",
    "- campaigns: campaigns received by each household\n",
    "- campaign_descriptions: campaign metadata (length of time active)\n",
    "- coupons: coupon metadata (UPC code, campaign, etc.)\n",
    "- coupon_redemptions: coupon redemptions (household, day, UPC code, campaign)\n",
    "- demographics: household demographic data (age, income, family size, etc.)\n",
    "- products: product metadata (brand, description, etc.)\n",
    "- promotions_sample: a sampling of the product placement in mailers and in stores corresponding to advertising campaigns\n",
    "- transactions_sample: a sampling of the products purchased by households\n"
   ]
  },
  {
   "cell_type": "markdown",
   "metadata": {},
   "source": [
    "## Setup & Imports\n"
   ]
  },
  {
   "cell_type": "code",
   "execution_count": 1,
   "metadata": {},
   "outputs": [],
   "source": [
    "# Import necessary libraries\n",
    "import plotly\n",
    "import warnings\n",
    "import numpy as np\n",
    "import pandas as pd\n",
    "import seaborn as sns\n",
    "from PIL import Image\n",
    "from tqdm import tqdm\n",
    "import plotly.express as px\n",
    "import matplotlib.pyplot as plt\n",
    "from wordcloud import WordCloud"
   ]
  },
  {
   "cell_type": "code",
   "execution_count": 2,
   "metadata": {},
   "outputs": [],
   "source": [
    "# Set Parameters\n",
    "warnings.filterwarnings(\"ignore\")\n",
    "dataset_folder = \"../Data/\"\n",
    "export_folder = \"../Export/\"\n",
    "np.random.seed(42)  # Setup numpy seed for reproducibility"
   ]
  },
  {
   "cell_type": "code",
   "execution_count": 3,
   "metadata": {},
   "outputs": [
    {
     "name": "stderr",
     "output_type": "stream",
     "text": [
      "  0%|          | 0/4 [00:00<?, ?it/s]"
     ]
    },
    {
     "name": "stderr",
     "output_type": "stream",
     "text": [
      "100%|██████████| 4/4 [00:02<00:00,  1.77it/s]"
     ]
    },
    {
     "name": "stdout",
     "output_type": "stream",
     "text": [
      "Loaded 4 datasets: product.csv, hh_demographic.csv, transaction_data.csv, campaign_desc.csv\n"
     ]
    },
    {
     "name": "stderr",
     "output_type": "stream",
     "text": [
      "\n"
     ]
    }
   ],
   "source": [
    "# Load the dataset's csv files\n",
    "with tqdm(total=4) as pbar:\n",
    "    df_product = pd.read_csv(dataset_folder + \"product.csv\")\n",
    "    pbar.update(1)\n",
    "    df_demographic = pd.read_csv(dataset_folder + \"hh_demographic.csv\")\n",
    "    pbar.update(1)\n",
    "    df_trnsct = pd.read_csv(dataset_folder + \"transaction_data.csv\")\n",
    "    pbar.update(1)\n",
    "    df_campaign = pd.read_csv(dataset_folder + \"campaign_desc.csv\")\n",
    "    pbar.update(1)\n",
    "\n",
    "# Print loaded datasets file names\n",
    "print(\n",
    "    f\"Loaded 4 datasets: product.csv, hh_demographic.csv, transaction_data.csv, campaign_desc.csv\"\n",
    ")"
   ]
  },
  {
   "cell_type": "markdown",
   "metadata": {},
   "source": [
    "---"
   ]
  },
  {
   "cell_type": "markdown",
   "metadata": {},
   "source": [
    "# Traitement des Valeurs Manquantes\n"
   ]
  },
  {
   "cell_type": "markdown",
   "metadata": {},
   "source": [
    "In this part we will process the missing values"
   ]
  },
  {
   "cell_type": "markdown",
   "metadata": {},
   "source": [
    "## 1. Demographic Dataframe"
   ]
  },
  {
   "cell_type": "markdown",
   "metadata": {},
   "source": [
    "#### a. General Analysis"
   ]
  },
  {
   "cell_type": "code",
   "execution_count": 266,
   "metadata": {},
   "outputs": [
    {
     "data": {
      "text/html": [
       "<div>\n",
       "<style scoped>\n",
       "    .dataframe tbody tr th:only-of-type {\n",
       "        vertical-align: middle;\n",
       "    }\n",
       "\n",
       "    .dataframe tbody tr th {\n",
       "        vertical-align: top;\n",
       "    }\n",
       "\n",
       "    .dataframe thead th {\n",
       "        text-align: right;\n",
       "    }\n",
       "</style>\n",
       "<table border=\"1\" class=\"dataframe\">\n",
       "  <thead>\n",
       "    <tr style=\"text-align: right;\">\n",
       "      <th></th>\n",
       "      <th>AGE_DESC</th>\n",
       "      <th>MARITAL_STATUS_CODE</th>\n",
       "      <th>INCOME_DESC</th>\n",
       "      <th>HOMEOWNER_DESC</th>\n",
       "      <th>HH_COMP_DESC</th>\n",
       "      <th>HOUSEHOLD_SIZE_DESC</th>\n",
       "      <th>KID_CATEGORY_DESC</th>\n",
       "      <th>household_key</th>\n",
       "    </tr>\n",
       "  </thead>\n",
       "  <tbody>\n",
       "    <tr>\n",
       "      <th>0</th>\n",
       "      <td>65+</td>\n",
       "      <td>A</td>\n",
       "      <td>35-49K</td>\n",
       "      <td>Homeowner</td>\n",
       "      <td>2 Adults No Kids</td>\n",
       "      <td>2</td>\n",
       "      <td>None/Unknown</td>\n",
       "      <td>1</td>\n",
       "    </tr>\n",
       "    <tr>\n",
       "      <th>1</th>\n",
       "      <td>45-54</td>\n",
       "      <td>A</td>\n",
       "      <td>50-74K</td>\n",
       "      <td>Homeowner</td>\n",
       "      <td>2 Adults No Kids</td>\n",
       "      <td>2</td>\n",
       "      <td>None/Unknown</td>\n",
       "      <td>7</td>\n",
       "    </tr>\n",
       "    <tr>\n",
       "      <th>2</th>\n",
       "      <td>25-34</td>\n",
       "      <td>U</td>\n",
       "      <td>25-34K</td>\n",
       "      <td>Unknown</td>\n",
       "      <td>2 Adults Kids</td>\n",
       "      <td>3</td>\n",
       "      <td>1</td>\n",
       "      <td>8</td>\n",
       "    </tr>\n",
       "    <tr>\n",
       "      <th>3</th>\n",
       "      <td>25-34</td>\n",
       "      <td>U</td>\n",
       "      <td>75-99K</td>\n",
       "      <td>Homeowner</td>\n",
       "      <td>2 Adults Kids</td>\n",
       "      <td>4</td>\n",
       "      <td>2</td>\n",
       "      <td>13</td>\n",
       "    </tr>\n",
       "    <tr>\n",
       "      <th>4</th>\n",
       "      <td>45-54</td>\n",
       "      <td>B</td>\n",
       "      <td>50-74K</td>\n",
       "      <td>Homeowner</td>\n",
       "      <td>Single Female</td>\n",
       "      <td>1</td>\n",
       "      <td>None/Unknown</td>\n",
       "      <td>16</td>\n",
       "    </tr>\n",
       "  </tbody>\n",
       "</table>\n",
       "</div>"
      ],
      "text/plain": [
       "  AGE_DESC MARITAL_STATUS_CODE INCOME_DESC HOMEOWNER_DESC      HH_COMP_DESC  \\\n",
       "0      65+                   A      35-49K      Homeowner  2 Adults No Kids   \n",
       "1    45-54                   A      50-74K      Homeowner  2 Adults No Kids   \n",
       "2    25-34                   U      25-34K        Unknown     2 Adults Kids   \n",
       "3    25-34                   U      75-99K      Homeowner     2 Adults Kids   \n",
       "4    45-54                   B      50-74K      Homeowner     Single Female   \n",
       "\n",
       "  HOUSEHOLD_SIZE_DESC KID_CATEGORY_DESC  household_key  \n",
       "0                   2      None/Unknown              1  \n",
       "1                   2      None/Unknown              7  \n",
       "2                   3                 1              8  \n",
       "3                   4                 2             13  \n",
       "4                   1      None/Unknown             16  "
      ]
     },
     "execution_count": 266,
     "metadata": {},
     "output_type": "execute_result"
    }
   ],
   "source": [
    "df_demographic.head(5)"
   ]
  },
  {
   "cell_type": "code",
   "execution_count": 267,
   "metadata": {},
   "outputs": [
    {
     "name": "stdout",
     "output_type": "stream",
     "text": [
      "<class 'pandas.core.frame.DataFrame'>\n",
      "RangeIndex: 801 entries, 0 to 800\n",
      "Data columns (total 8 columns):\n",
      " #   Column               Non-Null Count  Dtype \n",
      "---  ------               --------------  ----- \n",
      " 0   AGE_DESC             801 non-null    object\n",
      " 1   MARITAL_STATUS_CODE  801 non-null    object\n",
      " 2   INCOME_DESC          801 non-null    object\n",
      " 3   HOMEOWNER_DESC       801 non-null    object\n",
      " 4   HH_COMP_DESC         801 non-null    object\n",
      " 5   HOUSEHOLD_SIZE_DESC  801 non-null    object\n",
      " 6   KID_CATEGORY_DESC    801 non-null    object\n",
      " 7   household_key        801 non-null    int64 \n",
      "dtypes: int64(1), object(7)\n",
      "memory usage: 50.2+ KB\n"
     ]
    }
   ],
   "source": [
    "df_demographic.info()"
   ]
  },
  {
   "cell_type": "markdown",
   "metadata": {},
   "source": [
    "We can see that the columns ['HOMEOWNER_DESC', 'HH_COMP_DESC', 'KID_CATEGORY_DESC','MARITAL_STATUS'] all have missing values as Unknwown or None/Unknown"
   ]
  },
  {
   "cell_type": "markdown",
   "metadata": {},
   "source": [
    "##### b. KID_CATEGORY_DESC"
   ]
  },
  {
   "cell_type": "code",
   "execution_count": 268,
   "metadata": {},
   "outputs": [
    {
     "data": {
      "text/plain": [
       "KID_CATEGORY_DESC\n",
       "None/Unknown    558\n",
       "1               114\n",
       "3+               69\n",
       "2                60\n",
       "Name: count, dtype: int64"
      ]
     },
     "execution_count": 268,
     "metadata": {},
     "output_type": "execute_result"
    }
   ],
   "source": [
    "df_demographic[\"KID_CATEGORY_DESC\"].value_counts()"
   ]
  },
  {
   "cell_type": "code",
   "execution_count": 269,
   "metadata": {},
   "outputs": [
    {
     "data": {
      "text/plain": [
       "HH_COMP_DESC\n",
       "2 Adults No Kids    255\n",
       "Single Female       144\n",
       "Single Male          95\n",
       "Unknown              64\n",
       "Name: count, dtype: int64"
      ]
     },
     "execution_count": 269,
     "metadata": {},
     "output_type": "execute_result"
    }
   ],
   "source": [
    "# Get the 'HH_COMP_DESC' values where 'KID_CATEGORY_DESC' is 'None/Unknown' in the df_demographic DataFrame\n",
    "# Then, count the unique values of 'HH_COMP_DESC'\n",
    "df_demographic[df_demographic[\"KID_CATEGORY_DESC\"] == \"None/Unknown\"][\n",
    "    \"HH_COMP_DESC\"\n",
    "].value_counts()"
   ]
  },
  {
   "cell_type": "markdown",
   "metadata": {},
   "source": [
    "We can see that the majority of KIDS marked as None/Unknown are from adults with no kids ['2 Adults No Kids', 'Single Female', 'Single Male']. <br/>\n",
    "We can set those values to 0.\n"
   ]
  },
  {
   "cell_type": "code",
   "execution_count": 270,
   "metadata": {},
   "outputs": [
    {
     "data": {
      "text/plain": [
       "KID_CATEGORY_DESC\n",
       "0               494\n",
       "1               114\n",
       "3+               69\n",
       "None/Unknown     64\n",
       "2                60\n",
       "Name: count, dtype: int64"
      ]
     },
     "execution_count": 270,
     "metadata": {},
     "output_type": "execute_result"
    }
   ],
   "source": [
    "# Update the 'KID_CATEGORY_DESC' column in the df_demographic DataFrame\n",
    "df_demographic[\"KID_CATEGORY_DESC\"] = np.where(\n",
    "    # Condition: If 'KID_CATEGORY_DESC' is 'None/Unknown' AND 'HH_COMP_DESC' is not 'Unknown'\n",
    "    (df_demographic[\"KID_CATEGORY_DESC\"] == \"None/Unknown\")\n",
    "    & (~(df_demographic[\"HH_COMP_DESC\"] == \"Unknown\")),\n",
    "    0,  # If condition is True, set value to 0\n",
    "    df_demographic[\n",
    "        \"KID_CATEGORY_DESC\"\n",
    "    ],  # If condition is False, keep the original value\n",
    ")\n",
    "df_demographic[\"KID_CATEGORY_DESC\"].value_counts()"
   ]
  },
  {
   "cell_type": "code",
   "execution_count": 271,
   "metadata": {},
   "outputs": [
    {
     "data": {
      "text/plain": [
       "HOUSEHOLD_SIZE_DESC  HH_COMP_DESC  MARITAL_STATUS_CODE\n",
       "1                    Unknown       U                      59\n",
       "2                    Unknown       A                       3\n",
       "1                    Unknown       B                       2\n",
       "Name: count, dtype: int64"
      ]
     },
     "execution_count": 271,
     "metadata": {},
     "output_type": "execute_result"
    }
   ],
   "source": [
    "# Filter the df_demographic DataFrame to only include rows where 'KID_CATEGORY_DESC' is 'None/Unknown'\n",
    "# Then, select the 'HOUSEHOLD_SIZE_DESC', 'HH_COMP_DESC', and 'MARITAL_STATUS_CODE' columns from this filtered DataFrame\n",
    "# Finally, count the unique combinations of these three columns\n",
    "df_demographic[df_demographic[\"KID_CATEGORY_DESC\"] == \"None/Unknown\"][\n",
    "    [\"HOUSEHOLD_SIZE_DESC\", \"HH_COMP_DESC\", \"MARITAL_STATUS_CODE\"]\n",
    "].value_counts()"
   ]
  },
  {
   "cell_type": "markdown",
   "metadata": {},
   "source": [
    "We can see that the remaining Unknown kids can be deduced from the household size as Household Size of 1 has no kids. Both household types are of an unknown composition. The households having 2 persons are married. We can assume that therefore, they have no kids."
   ]
  },
  {
   "cell_type": "code",
   "execution_count": 272,
   "metadata": {},
   "outputs": [
    {
     "data": {
      "text/plain": [
       "KID_CATEGORY_DESC\n",
       "0     558\n",
       "1     114\n",
       "3+     69\n",
       "2      60\n",
       "Name: count, dtype: int64"
      ]
     },
     "execution_count": 272,
     "metadata": {},
     "output_type": "execute_result"
    }
   ],
   "source": [
    "df_demographic[\"KID_CATEGORY_DESC\"].replace(\n",
    "    \"None/Unknown\", 0, inplace=True\n",
    ")  # Replace 'None/Unknown' with 0\n",
    "df_demographic[\"KID_CATEGORY_DESC\"].value_counts()"
   ]
  },
  {
   "cell_type": "code",
   "execution_count": 273,
   "metadata": {},
   "outputs": [
    {
     "data": {
      "text/plain": [
       "KID_CATEGORY_DESC\n",
       "0    558\n",
       "1    114\n",
       "3     69\n",
       "2     60\n",
       "Name: count, dtype: int64"
      ]
     },
     "execution_count": 273,
     "metadata": {},
     "output_type": "execute_result"
    }
   ],
   "source": [
    "# Replace the 3+ values in the 'KID_CATEGORY_DESC' column with 3 to convert the column to integers.\n",
    "df_demographic[\"KID_CATEGORY_DESC\"] = (\n",
    "    df_demographic[\"KID_CATEGORY_DESC\"].replace(\"3+\", 3).astype(int)\n",
    ")\n",
    "df_demographic[\"KID_CATEGORY_DESC\"].value_counts()"
   ]
  },
  {
   "cell_type": "markdown",
   "metadata": {},
   "source": [
    "#### c. HH_COMP_DESC"
   ]
  },
  {
   "cell_type": "code",
   "execution_count": 274,
   "metadata": {},
   "outputs": [
    {
     "data": {
      "text/plain": [
       "HH_COMP_DESC\n",
       "2 Adults No Kids    255\n",
       "2 Adults Kids       187\n",
       "Single Female       144\n",
       "Single Male          95\n",
       "Unknown              73\n",
       "1 Adult Kids         47\n",
       "Name: count, dtype: int64"
      ]
     },
     "execution_count": 274,
     "metadata": {},
     "output_type": "execute_result"
    }
   ],
   "source": [
    "# know the different category of data in column HH_COMP_DESC\n",
    "df_demographic[\"HH_COMP_DESC\"].value_counts()"
   ]
  },
  {
   "cell_type": "code",
   "execution_count": 275,
   "metadata": {},
   "outputs": [
    {
     "data": {
      "text/plain": [
       "HOUSEHOLD_SIZE_DESC  KID_CATEGORY_DESC\n",
       "1                    0                    61\n",
       "3                    1                     5\n",
       "2                    0                     3\n",
       "5+                   3                     3\n",
       "2                    1                     1\n",
       "Name: count, dtype: int64"
      ]
     },
     "execution_count": 275,
     "metadata": {},
     "output_type": "execute_result"
    }
   ],
   "source": [
    "# Filter the df_demographic DataFrame to only include rows where 'HH_COMP_DESC' is 'Unknown'\n",
    "# Then, select the 'HOUSEHOLD_SIZE_DESC' and 'KID_CATEGORY_DESC' columns from this filtered DataFrame\n",
    "# Finally, count the unique combinations of these two columns.\n",
    "df_demographic[df_demographic[\"HH_COMP_DESC\"] == \"Unknown\"][\n",
    "    [\"HOUSEHOLD_SIZE_DESC\", \"KID_CATEGORY_DESC\"]\n",
    "].value_counts()"
   ]
  },
  {
   "cell_type": "markdown",
   "metadata": {},
   "source": [
    "We can fill the Houses with 1 person and no kids as a new value: '1 Adult No Kids'"
   ]
  },
  {
   "cell_type": "code",
   "execution_count": 276,
   "metadata": {},
   "outputs": [
    {
     "data": {
      "text/plain": [
       "HH_COMP_DESC\n",
       "2 Adults No Kids    255\n",
       "2 Adults Kids       187\n",
       "Single Female       144\n",
       "Single Male          95\n",
       "1 Adult No Kids      61\n",
       "1 Adult Kids         47\n",
       "Unknown              12\n",
       "Name: count, dtype: int64"
      ]
     },
     "execution_count": 276,
     "metadata": {},
     "output_type": "execute_result"
    }
   ],
   "source": [
    "# Update the 'HH_COMP_DESC' column in the df_demographic DataFrame\n",
    "df_demographic[\"HH_COMP_DESC\"] = np.where(\n",
    "    # Condition: If 'HH_COMP_DESC' is 'Unknown' AND 'HOUSEHOLD_SIZE_DESC' is '1'\n",
    "    (df_demographic[\"HH_COMP_DESC\"] == \"Unknown\")\n",
    "    & (df_demographic[\"HOUSEHOLD_SIZE_DESC\"] == \"1\"),\n",
    "    \"1 Adult No Kids\",  # If condition is True, set value to '1 Adult No Kids'\n",
    "    df_demographic[\"HH_COMP_DESC\"],  # If condition is False, keep the original value\n",
    ")\n",
    "df_demographic[\"HH_COMP_DESC\"].value_counts()"
   ]
  },
  {
   "cell_type": "code",
   "execution_count": 277,
   "metadata": {},
   "outputs": [
    {
     "data": {
      "text/html": [
       "<div>\n",
       "<style scoped>\n",
       "    .dataframe tbody tr th:only-of-type {\n",
       "        vertical-align: middle;\n",
       "    }\n",
       "\n",
       "    .dataframe tbody tr th {\n",
       "        vertical-align: top;\n",
       "    }\n",
       "\n",
       "    .dataframe thead th {\n",
       "        text-align: right;\n",
       "    }\n",
       "</style>\n",
       "<table border=\"1\" class=\"dataframe\">\n",
       "  <thead>\n",
       "    <tr style=\"text-align: right;\">\n",
       "      <th></th>\n",
       "      <th>AGE_DESC</th>\n",
       "      <th>MARITAL_STATUS_CODE</th>\n",
       "      <th>INCOME_DESC</th>\n",
       "      <th>HOMEOWNER_DESC</th>\n",
       "      <th>HH_COMP_DESC</th>\n",
       "      <th>HOUSEHOLD_SIZE_DESC</th>\n",
       "      <th>KID_CATEGORY_DESC</th>\n",
       "      <th>household_key</th>\n",
       "    </tr>\n",
       "  </thead>\n",
       "  <tbody>\n",
       "    <tr>\n",
       "      <th>87</th>\n",
       "      <td>35-44</td>\n",
       "      <td>A</td>\n",
       "      <td>Under 15K</td>\n",
       "      <td>Renter</td>\n",
       "      <td>Unknown</td>\n",
       "      <td>3</td>\n",
       "      <td>1</td>\n",
       "      <td>249</td>\n",
       "    </tr>\n",
       "    <tr>\n",
       "      <th>140</th>\n",
       "      <td>25-34</td>\n",
       "      <td>A</td>\n",
       "      <td>25-34K</td>\n",
       "      <td>Unknown</td>\n",
       "      <td>Unknown</td>\n",
       "      <td>2</td>\n",
       "      <td>0</td>\n",
       "      <td>404</td>\n",
       "    </tr>\n",
       "    <tr>\n",
       "      <th>194</th>\n",
       "      <td>45-54</td>\n",
       "      <td>A</td>\n",
       "      <td>125-149K</td>\n",
       "      <td>Homeowner</td>\n",
       "      <td>Unknown</td>\n",
       "      <td>3</td>\n",
       "      <td>1</td>\n",
       "      <td>582</td>\n",
       "    </tr>\n",
       "    <tr>\n",
       "      <th>218</th>\n",
       "      <td>55-64</td>\n",
       "      <td>A</td>\n",
       "      <td>50-74K</td>\n",
       "      <td>Homeowner</td>\n",
       "      <td>Unknown</td>\n",
       "      <td>2</td>\n",
       "      <td>0</td>\n",
       "      <td>660</td>\n",
       "    </tr>\n",
       "    <tr>\n",
       "      <th>341</th>\n",
       "      <td>35-44</td>\n",
       "      <td>A</td>\n",
       "      <td>35-49K</td>\n",
       "      <td>Unknown</td>\n",
       "      <td>Unknown</td>\n",
       "      <td>5+</td>\n",
       "      <td>3</td>\n",
       "      <td>1012</td>\n",
       "    </tr>\n",
       "    <tr>\n",
       "      <th>375</th>\n",
       "      <td>45-54</td>\n",
       "      <td>U</td>\n",
       "      <td>50-74K</td>\n",
       "      <td>Unknown</td>\n",
       "      <td>Unknown</td>\n",
       "      <td>2</td>\n",
       "      <td>1</td>\n",
       "      <td>1135</td>\n",
       "    </tr>\n",
       "    <tr>\n",
       "      <th>382</th>\n",
       "      <td>45-54</td>\n",
       "      <td>A</td>\n",
       "      <td>35-49K</td>\n",
       "      <td>Homeowner</td>\n",
       "      <td>Unknown</td>\n",
       "      <td>2</td>\n",
       "      <td>0</td>\n",
       "      <td>1154</td>\n",
       "    </tr>\n",
       "    <tr>\n",
       "      <th>505</th>\n",
       "      <td>45-54</td>\n",
       "      <td>A</td>\n",
       "      <td>75-99K</td>\n",
       "      <td>Homeowner</td>\n",
       "      <td>Unknown</td>\n",
       "      <td>3</td>\n",
       "      <td>1</td>\n",
       "      <td>1563</td>\n",
       "    </tr>\n",
       "    <tr>\n",
       "      <th>579</th>\n",
       "      <td>45-54</td>\n",
       "      <td>U</td>\n",
       "      <td>125-149K</td>\n",
       "      <td>Homeowner</td>\n",
       "      <td>Unknown</td>\n",
       "      <td>5+</td>\n",
       "      <td>3</td>\n",
       "      <td>1834</td>\n",
       "    </tr>\n",
       "    <tr>\n",
       "      <th>584</th>\n",
       "      <td>45-54</td>\n",
       "      <td>A</td>\n",
       "      <td>75-99K</td>\n",
       "      <td>Homeowner</td>\n",
       "      <td>Unknown</td>\n",
       "      <td>3</td>\n",
       "      <td>1</td>\n",
       "      <td>1848</td>\n",
       "    </tr>\n",
       "    <tr>\n",
       "      <th>628</th>\n",
       "      <td>25-34</td>\n",
       "      <td>U</td>\n",
       "      <td>50-74K</td>\n",
       "      <td>Unknown</td>\n",
       "      <td>Unknown</td>\n",
       "      <td>5+</td>\n",
       "      <td>3</td>\n",
       "      <td>1985</td>\n",
       "    </tr>\n",
       "    <tr>\n",
       "      <th>797</th>\n",
       "      <td>45-54</td>\n",
       "      <td>A</td>\n",
       "      <td>75-99K</td>\n",
       "      <td>Homeowner</td>\n",
       "      <td>Unknown</td>\n",
       "      <td>3</td>\n",
       "      <td>1</td>\n",
       "      <td>2496</td>\n",
       "    </tr>\n",
       "  </tbody>\n",
       "</table>\n",
       "</div>"
      ],
      "text/plain": [
       "    AGE_DESC MARITAL_STATUS_CODE INCOME_DESC HOMEOWNER_DESC HH_COMP_DESC  \\\n",
       "87     35-44                   A   Under 15K         Renter      Unknown   \n",
       "140    25-34                   A      25-34K        Unknown      Unknown   \n",
       "194    45-54                   A    125-149K      Homeowner      Unknown   \n",
       "218    55-64                   A      50-74K      Homeowner      Unknown   \n",
       "341    35-44                   A      35-49K        Unknown      Unknown   \n",
       "375    45-54                   U      50-74K        Unknown      Unknown   \n",
       "382    45-54                   A      35-49K      Homeowner      Unknown   \n",
       "505    45-54                   A      75-99K      Homeowner      Unknown   \n",
       "579    45-54                   U    125-149K      Homeowner      Unknown   \n",
       "584    45-54                   A      75-99K      Homeowner      Unknown   \n",
       "628    25-34                   U      50-74K        Unknown      Unknown   \n",
       "797    45-54                   A      75-99K      Homeowner      Unknown   \n",
       "\n",
       "    HOUSEHOLD_SIZE_DESC  KID_CATEGORY_DESC  household_key  \n",
       "87                    3                  1            249  \n",
       "140                   2                  0            404  \n",
       "194                   3                  1            582  \n",
       "218                   2                  0            660  \n",
       "341                  5+                  3           1012  \n",
       "375                   2                  1           1135  \n",
       "382                   2                  0           1154  \n",
       "505                   3                  1           1563  \n",
       "579                  5+                  3           1834  \n",
       "584                   3                  1           1848  \n",
       "628                  5+                  3           1985  \n",
       "797                   3                  1           2496  "
      ]
     },
     "execution_count": 277,
     "metadata": {},
     "output_type": "execute_result"
    }
   ],
   "source": [
    "# List of data with \"Unknown\" answer in column HH_COMP_DESC\n",
    "df_demographic[df_demographic[\"HH_COMP_DESC\"] == \"Unknown\"]"
   ]
  },
  {
   "cell_type": "markdown",
   "metadata": {},
   "source": [
    "We can see that we can deduce the household composition from the diffrence between the Household size and the number of kids."
   ]
  },
  {
   "cell_type": "code",
   "execution_count": 278,
   "metadata": {},
   "outputs": [
    {
     "data": {
      "text/plain": [
       "HH_COMP_DESC\n",
       "2 Adults No Kids    255\n",
       "2 Adults Kids       187\n",
       "Single Female       144\n",
       "Single Male          95\n",
       "1 Adult No Kids      61\n",
       "1 Adult Kids         47\n",
       "Unknown              12\n",
       "Name: count, dtype: int64"
      ]
     },
     "execution_count": 278,
     "metadata": {},
     "output_type": "execute_result"
    }
   ],
   "source": [
    "# First we need to convert the column to int and replace the '5+' values with 5 to do so.\n",
    "df_demographic[\"HOUSEHOLD_SIZE_DESC\"] = (\n",
    "    df_demographic[\"HOUSEHOLD_SIZE_DESC\"].replace(\"5+\", 5).astype(int)\n",
    ")\n",
    "df_demographic[\"HH_COMP_DESC\"].value_counts()"
   ]
  },
  {
   "cell_type": "code",
   "execution_count": 279,
   "metadata": {},
   "outputs": [
    {
     "data": {
      "text/plain": [
       "HH_COMP_DESC\n",
       "2 Adults No Kids    258\n",
       "2 Adults Kids       195\n",
       "Single Female       144\n",
       "Single Male          95\n",
       "1 Adult No Kids      61\n",
       "1 Adult Kids         48\n",
       "Name: count, dtype: int64"
      ]
     },
     "execution_count": 279,
     "metadata": {},
     "output_type": "execute_result"
    }
   ],
   "source": [
    "# Define the condition lists\n",
    "unknown_cond = df_demographic[\"HH_COMP_DESC\"] == \"Unknown\"\n",
    "conditions = [\n",
    "    (\n",
    "        unknown_cond\n",
    "        & (\n",
    "            df_demographic[\"HOUSEHOLD_SIZE_DESC\"] - df_demographic[\"KID_CATEGORY_DESC\"]\n",
    "            == 2\n",
    "        )\n",
    "        & (df_demographic[\"KID_CATEGORY_DESC\"] == 0)\n",
    "    ),\n",
    "    (\n",
    "        unknown_cond\n",
    "        & (\n",
    "            df_demographic[\"HOUSEHOLD_SIZE_DESC\"] - df_demographic[\"KID_CATEGORY_DESC\"]\n",
    "            == 2\n",
    "        )\n",
    "        & (df_demographic[\"KID_CATEGORY_DESC\"] != 0)\n",
    "    ),\n",
    "    (\n",
    "        unknown_cond\n",
    "        & (\n",
    "            df_demographic[\"HOUSEHOLD_SIZE_DESC\"] - df_demographic[\"KID_CATEGORY_DESC\"]\n",
    "            == 1\n",
    "        )\n",
    "        & (df_demographic[\"KID_CATEGORY_DESC\"] == 0)\n",
    "    ),\n",
    "    (\n",
    "        unknown_cond\n",
    "        & (\n",
    "            df_demographic[\"HOUSEHOLD_SIZE_DESC\"] - df_demographic[\"KID_CATEGORY_DESC\"]\n",
    "            == 1\n",
    "        )\n",
    "        & (df_demographic[\"KID_CATEGORY_DESC\"] != 0)\n",
    "    ),\n",
    "]\n",
    "\n",
    "# Define the choice list\n",
    "choices = [\"2 Adults No Kids\", \"2 Adults Kids\", \"1 Adult No Kids\", \"1 Adult Kids\"]\n",
    "\n",
    "# Create a new column with the new values\n",
    "df_demographic[\"HH_COMP_DESC\"] = np.select(\n",
    "    conditions, choices, default=df_demographic[\"HH_COMP_DESC\"]\n",
    ")\n",
    "\n",
    "df_demographic[\"HH_COMP_DESC\"].value_counts()"
   ]
  },
  {
   "cell_type": "markdown",
   "metadata": {},
   "source": [
    "#### d. HOMEOWNER_DESC"
   ]
  },
  {
   "cell_type": "code",
   "execution_count": 280,
   "metadata": {},
   "outputs": [
    {
     "data": {
      "text/plain": [
       "HOMEOWNER_DESC\n",
       "Homeowner          504\n",
       "Unknown            233\n",
       "Renter              42\n",
       "Probable Renter     11\n",
       "Probable Owner      11\n",
       "Name: count, dtype: int64"
      ]
     },
     "execution_count": 280,
     "metadata": {},
     "output_type": "execute_result"
    }
   ],
   "source": [
    "# Know the different distribution of \"HOMEOWNER_DESC\"\n",
    "df_demographic[\"HOMEOWNER_DESC\"].value_counts()"
   ]
  },
  {
   "cell_type": "code",
   "execution_count": 281,
   "metadata": {},
   "outputs": [],
   "source": [
    "# Replace 'Unknown' values in the 'HOMEOWNER_DESC' column of the df_demographic DataFrame with NA (missing) values\n",
    "df_demographic[\"HOMEOWNER_DESC\"].replace(\"Unknown\", pd.NA, inplace=True)"
   ]
  },
  {
   "cell_type": "markdown",
   "metadata": {},
   "source": [
    "We will fill the Homeowner description column with the same distribution as the non missing values"
   ]
  },
  {
   "cell_type": "code",
   "execution_count": 282,
   "metadata": {},
   "outputs": [
    {
     "data": {
      "text/plain": [
       "{'Homeowner': 0.8873239436619719,\n",
       " 'Renter': 0.07394366197183098,\n",
       " 'Probable Renter': 0.01936619718309859,\n",
       " 'Probable Owner': 0.01936619718309859}"
      ]
     },
     "execution_count": 282,
     "metadata": {},
     "output_type": "execute_result"
    }
   ],
   "source": [
    "# Create a dictionnary with the ratio of each non NA value in the column\n",
    "homeowner_probability = (\n",
    "    df_demographic[\"HOMEOWNER_DESC\"].value_counts(normalize=True).to_dict()\n",
    ")\n",
    "homeowner_probability"
   ]
  },
  {
   "cell_type": "code",
   "execution_count": 283,
   "metadata": {},
   "outputs": [
    {
     "data": {
      "text/plain": [
       "HOMEOWNER_DESC\n",
       "Homeowner          0.920100\n",
       "Renter             0.052434\n",
       "Probable Renter    0.013733\n",
       "Probable Owner     0.013733\n",
       "Name: proportion, dtype: float64"
      ]
     },
     "execution_count": 283,
     "metadata": {},
     "output_type": "execute_result"
    }
   ],
   "source": [
    "# Fill the NA values with np.random while passing the existing values ratio as probability to the random function\n",
    "df_demographic[\"HOMEOWNER_DESC\"] = df_demographic[\"HOMEOWNER_DESC\"].fillna(\n",
    "    np.random.choice(\n",
    "        list(homeowner_probability.keys()), p=list(homeowner_probability.values())\n",
    "    )\n",
    ")\n",
    "df_demographic[\"HOMEOWNER_DESC\"].value_counts(normalize=True)"
   ]
  },
  {
   "cell_type": "markdown",
   "metadata": {},
   "source": [
    "#### e. MARITAL_STATUS_CODE"
   ]
  },
  {
   "cell_type": "code",
   "execution_count": 284,
   "metadata": {},
   "outputs": [
    {
     "data": {
      "text/plain": [
       "MARITAL_STATUS_CODE\n",
       "U    344\n",
       "A    340\n",
       "B    117\n",
       "Name: count, dtype: int64"
      ]
     },
     "execution_count": 284,
     "metadata": {},
     "output_type": "execute_result"
    }
   ],
   "source": [
    "# Know the different distribution of \"MARITAL_STATUS_CODE\"\n",
    "df_demographic[\"MARITAL_STATUS_CODE\"].value_counts()"
   ]
  },
  {
   "cell_type": "code",
   "execution_count": 285,
   "metadata": {},
   "outputs": [
    {
     "data": {
      "text/plain": [
       "HH_COMP_DESC      MARITAL_STATUS_CODE\n",
       "1 Adult Kids      A                       16\n",
       "                  B                       14\n",
       "                  U                       18\n",
       "1 Adult No Kids   B                        2\n",
       "                  U                       59\n",
       "2 Adults Kids     A                      141\n",
       "                  B                        9\n",
       "                  U                       45\n",
       "2 Adults No Kids  A                      138\n",
       "                  B                       28\n",
       "                  U                       92\n",
       "Single Female     A                       33\n",
       "                  B                       39\n",
       "                  U                       72\n",
       "Single Male       A                       12\n",
       "                  B                       25\n",
       "                  U                       58\n",
       "Name: count, dtype: int64"
      ]
     },
     "execution_count": 285,
     "metadata": {},
     "output_type": "execute_result"
    }
   ],
   "source": [
    "# We can probably infer the marital status from the 'HH_COMP_DESC' column\n",
    "df_demographic[[\"HH_COMP_DESC\", \"MARITAL_STATUS_CODE\"]].value_counts().sort_index()"
   ]
  },
  {
   "cell_type": "code",
   "execution_count": 286,
   "metadata": {},
   "outputs": [
    {
     "data": {
      "text/plain": [
       "HH_COMP_DESC      MARITAL_STATUS_CODE\n",
       "1 Adult Kids      A                       16\n",
       "                  B                       14\n",
       "1 Adult No Kids   B                        2\n",
       "2 Adults Kids     A                      141\n",
       "                  B                        9\n",
       "2 Adults No Kids  A                      138\n",
       "                  B                       28\n",
       "Single Female     A                       33\n",
       "                  B                       39\n",
       "Single Male       A                       12\n",
       "                  B                       25\n",
       "Name: count, dtype: int64"
      ]
     },
     "execution_count": 286,
     "metadata": {},
     "output_type": "execute_result"
    }
   ],
   "source": [
    "# Replace the 'U' values in the 'MARITAL_STATUS_CODE' column of the df_demographic DataFrame with NA (missing) values\n",
    "# And then see the distribution between 'A': Married & 'B': Single for each Household composition\n",
    "marital_proba = (\n",
    "    df_demographic[[\"HH_COMP_DESC\", \"MARITAL_STATUS_CODE\"]]\n",
    "    .replace(\"U\", np.NaN)\n",
    "    .value_counts()\n",
    "    .sort_index()\n",
    ")\n",
    "marital_proba"
   ]
  },
  {
   "cell_type": "code",
   "execution_count": 287,
   "metadata": {},
   "outputs": [
    {
     "name": "stdout",
     "output_type": "stream",
     "text": [
      "1 Adult Kids: {'A': 0.5333333333333333, 'B': 0.4666666666666667}\n",
      "1 Adult No Kids: {'B': 1.0}\n",
      "2 Adults Kids: {'A': 0.94, 'B': 0.06}\n",
      "2 Adults No Kids: {'A': 0.8313253012048193, 'B': 0.1686746987951807}\n",
      "Single Female: {'A': 0.4583333333333333, 'B': 0.5416666666666666}\n",
      "Single Male: {'A': 0.32432432432432434, 'B': 0.6756756756756757}\n"
     ]
    }
   ],
   "source": [
    "# Extract the ratio of each value ['A','B'] for each 'HH_COMP_DESC' value and use it to fill the missing values according to that ratio\n",
    "\n",
    "# For each unique value in the 'HH_COMP_DESC' column (represented by 'comp_desc')\n",
    "for comp_desc in marital_proba.index.levels[0]:\n",
    "    # Calculate the proportion of each 'MARITAL_STATUS_CODE' value within the current 'HH_COMP_DESC' group\n",
    "    marital_proba[comp_desc] = marital_proba[comp_desc] / marital_proba[comp_desc].sum()\n",
    "\n",
    "    comp_desc_proba = marital_proba[comp_desc].to_dict()\n",
    "    print(f\"{comp_desc}: {comp_desc_proba}\")\n",
    "\n",
    "    # Update the 'MARITAL_STATUS_CODE' column in the df_demographic DataFrame\n",
    "    df_demographic[\"MARITAL_STATUS_CODE\"] = np.where(\n",
    "        # Condition: If 'MARITAL_STATUS_CODE' is 'U' AND 'HH_COMP_DESC' is the current 'comp_desc' value\n",
    "        (df_demographic[\"MARITAL_STATUS_CODE\"] == \"U\")\n",
    "        & (df_demographic[\"HH_COMP_DESC\"] == comp_desc),\n",
    "        # If condition is True, randomly select a 'MARITAL_STATUS_CODE' value based on the calculated proportions\n",
    "        np.random.choice(\n",
    "            list(comp_desc_proba.keys()), p=list(comp_desc_proba.values())\n",
    "        ),\n",
    "        # If condition is False, keep the original value\n",
    "        df_demographic[\"MARITAL_STATUS_CODE\"],\n",
    "    )"
   ]
  },
  {
   "cell_type": "code",
   "execution_count": 288,
   "metadata": {},
   "outputs": [
    {
     "data": {
      "text/plain": [
       "MARITAL_STATUS_CODE\n",
       "A    0.757803\n",
       "B    0.242197\n",
       "Name: proportion, dtype: float64"
      ]
     },
     "execution_count": 288,
     "metadata": {},
     "output_type": "execute_result"
    }
   ],
   "source": [
    "df_demographic[\"MARITAL_STATUS_CODE\"].value_counts(normalize=True)"
   ]
  },
  {
   "cell_type": "markdown",
   "metadata": {},
   "source": [
    "All Missing values in the dataframe are now resolved."
   ]
  },
  {
   "cell_type": "code",
   "execution_count": 289,
   "metadata": {},
   "outputs": [
    {
     "data": {
      "text/html": [
       "<div>\n",
       "<style scoped>\n",
       "    .dataframe tbody tr th:only-of-type {\n",
       "        vertical-align: middle;\n",
       "    }\n",
       "\n",
       "    .dataframe tbody tr th {\n",
       "        vertical-align: top;\n",
       "    }\n",
       "\n",
       "    .dataframe thead th {\n",
       "        text-align: right;\n",
       "    }\n",
       "</style>\n",
       "<table border=\"1\" class=\"dataframe\">\n",
       "  <thead>\n",
       "    <tr style=\"text-align: right;\">\n",
       "      <th></th>\n",
       "      <th>AGE_DESC</th>\n",
       "      <th>MARITAL_STATUS_CODE</th>\n",
       "      <th>INCOME_DESC</th>\n",
       "      <th>HOMEOWNER_DESC</th>\n",
       "      <th>HH_COMP_DESC</th>\n",
       "      <th>HOUSEHOLD_SIZE_DESC</th>\n",
       "      <th>KID_CATEGORY_DESC</th>\n",
       "      <th>household_key</th>\n",
       "    </tr>\n",
       "  </thead>\n",
       "  <tbody>\n",
       "    <tr>\n",
       "      <th>0</th>\n",
       "      <td>65+</td>\n",
       "      <td>A</td>\n",
       "      <td>35-49K</td>\n",
       "      <td>Homeowner</td>\n",
       "      <td>2 Adults No Kids</td>\n",
       "      <td>2</td>\n",
       "      <td>0</td>\n",
       "      <td>1</td>\n",
       "    </tr>\n",
       "    <tr>\n",
       "      <th>1</th>\n",
       "      <td>45-54</td>\n",
       "      <td>A</td>\n",
       "      <td>50-74K</td>\n",
       "      <td>Homeowner</td>\n",
       "      <td>2 Adults No Kids</td>\n",
       "      <td>2</td>\n",
       "      <td>0</td>\n",
       "      <td>7</td>\n",
       "    </tr>\n",
       "    <tr>\n",
       "      <th>2</th>\n",
       "      <td>25-34</td>\n",
       "      <td>A</td>\n",
       "      <td>25-34K</td>\n",
       "      <td>Homeowner</td>\n",
       "      <td>2 Adults Kids</td>\n",
       "      <td>3</td>\n",
       "      <td>1</td>\n",
       "      <td>8</td>\n",
       "    </tr>\n",
       "    <tr>\n",
       "      <th>3</th>\n",
       "      <td>25-34</td>\n",
       "      <td>A</td>\n",
       "      <td>75-99K</td>\n",
       "      <td>Homeowner</td>\n",
       "      <td>2 Adults Kids</td>\n",
       "      <td>4</td>\n",
       "      <td>2</td>\n",
       "      <td>13</td>\n",
       "    </tr>\n",
       "    <tr>\n",
       "      <th>4</th>\n",
       "      <td>45-54</td>\n",
       "      <td>B</td>\n",
       "      <td>50-74K</td>\n",
       "      <td>Homeowner</td>\n",
       "      <td>Single Female</td>\n",
       "      <td>1</td>\n",
       "      <td>0</td>\n",
       "      <td>16</td>\n",
       "    </tr>\n",
       "    <tr>\n",
       "      <th>...</th>\n",
       "      <td>...</td>\n",
       "      <td>...</td>\n",
       "      <td>...</td>\n",
       "      <td>...</td>\n",
       "      <td>...</td>\n",
       "      <td>...</td>\n",
       "      <td>...</td>\n",
       "      <td>...</td>\n",
       "    </tr>\n",
       "    <tr>\n",
       "      <th>796</th>\n",
       "      <td>35-44</td>\n",
       "      <td>A</td>\n",
       "      <td>50-74K</td>\n",
       "      <td>Homeowner</td>\n",
       "      <td>2 Adults No Kids</td>\n",
       "      <td>2</td>\n",
       "      <td>0</td>\n",
       "      <td>2494</td>\n",
       "    </tr>\n",
       "    <tr>\n",
       "      <th>797</th>\n",
       "      <td>45-54</td>\n",
       "      <td>A</td>\n",
       "      <td>75-99K</td>\n",
       "      <td>Homeowner</td>\n",
       "      <td>2 Adults Kids</td>\n",
       "      <td>3</td>\n",
       "      <td>1</td>\n",
       "      <td>2496</td>\n",
       "    </tr>\n",
       "    <tr>\n",
       "      <th>798</th>\n",
       "      <td>45-54</td>\n",
       "      <td>A</td>\n",
       "      <td>35-49K</td>\n",
       "      <td>Homeowner</td>\n",
       "      <td>Single Male</td>\n",
       "      <td>1</td>\n",
       "      <td>0</td>\n",
       "      <td>2497</td>\n",
       "    </tr>\n",
       "    <tr>\n",
       "      <th>799</th>\n",
       "      <td>25-34</td>\n",
       "      <td>A</td>\n",
       "      <td>50-74K</td>\n",
       "      <td>Homeowner</td>\n",
       "      <td>2 Adults No Kids</td>\n",
       "      <td>2</td>\n",
       "      <td>0</td>\n",
       "      <td>2498</td>\n",
       "    </tr>\n",
       "    <tr>\n",
       "      <th>800</th>\n",
       "      <td>25-34</td>\n",
       "      <td>A</td>\n",
       "      <td>Under 15K</td>\n",
       "      <td>Homeowner</td>\n",
       "      <td>2 Adults Kids</td>\n",
       "      <td>3</td>\n",
       "      <td>1</td>\n",
       "      <td>2499</td>\n",
       "    </tr>\n",
       "  </tbody>\n",
       "</table>\n",
       "<p>801 rows × 8 columns</p>\n",
       "</div>"
      ],
      "text/plain": [
       "    AGE_DESC MARITAL_STATUS_CODE INCOME_DESC HOMEOWNER_DESC      HH_COMP_DESC  \\\n",
       "0        65+                   A      35-49K      Homeowner  2 Adults No Kids   \n",
       "1      45-54                   A      50-74K      Homeowner  2 Adults No Kids   \n",
       "2      25-34                   A      25-34K      Homeowner     2 Adults Kids   \n",
       "3      25-34                   A      75-99K      Homeowner     2 Adults Kids   \n",
       "4      45-54                   B      50-74K      Homeowner     Single Female   \n",
       "..       ...                 ...         ...            ...               ...   \n",
       "796    35-44                   A      50-74K      Homeowner  2 Adults No Kids   \n",
       "797    45-54                   A      75-99K      Homeowner     2 Adults Kids   \n",
       "798    45-54                   A      35-49K      Homeowner       Single Male   \n",
       "799    25-34                   A      50-74K      Homeowner  2 Adults No Kids   \n",
       "800    25-34                   A   Under 15K      Homeowner     2 Adults Kids   \n",
       "\n",
       "     HOUSEHOLD_SIZE_DESC  KID_CATEGORY_DESC  household_key  \n",
       "0                      2                  0              1  \n",
       "1                      2                  0              7  \n",
       "2                      3                  1              8  \n",
       "3                      4                  2             13  \n",
       "4                      1                  0             16  \n",
       "..                   ...                ...            ...  \n",
       "796                    2                  0           2494  \n",
       "797                    3                  1           2496  \n",
       "798                    1                  0           2497  \n",
       "799                    2                  0           2498  \n",
       "800                    3                  1           2499  \n",
       "\n",
       "[801 rows x 8 columns]"
      ]
     },
     "execution_count": 289,
     "metadata": {},
     "output_type": "execute_result"
    }
   ],
   "source": [
    "df_demographic"
   ]
  },
  {
   "cell_type": "markdown",
   "metadata": {},
   "source": [
    "---"
   ]
  },
  {
   "cell_type": "markdown",
   "metadata": {},
   "source": [
    "## 2. Transaction DataFrame"
   ]
  },
  {
   "cell_type": "code",
   "execution_count": 290,
   "metadata": {},
   "outputs": [
    {
     "data": {
      "text/html": [
       "<div>\n",
       "<style scoped>\n",
       "    .dataframe tbody tr th:only-of-type {\n",
       "        vertical-align: middle;\n",
       "    }\n",
       "\n",
       "    .dataframe tbody tr th {\n",
       "        vertical-align: top;\n",
       "    }\n",
       "\n",
       "    .dataframe thead th {\n",
       "        text-align: right;\n",
       "    }\n",
       "</style>\n",
       "<table border=\"1\" class=\"dataframe\">\n",
       "  <thead>\n",
       "    <tr style=\"text-align: right;\">\n",
       "      <th></th>\n",
       "      <th>household_key</th>\n",
       "      <th>BASKET_ID</th>\n",
       "      <th>DAY</th>\n",
       "      <th>PRODUCT_ID</th>\n",
       "      <th>QUANTITY</th>\n",
       "      <th>SALES_VALUE</th>\n",
       "      <th>STORE_ID</th>\n",
       "      <th>RETAIL_DISC</th>\n",
       "      <th>TRANS_TIME</th>\n",
       "      <th>WEEK_NO</th>\n",
       "      <th>COUPON_DISC</th>\n",
       "      <th>COUPON_MATCH_DISC</th>\n",
       "    </tr>\n",
       "  </thead>\n",
       "  <tbody>\n",
       "    <tr>\n",
       "      <th>0</th>\n",
       "      <td>2375</td>\n",
       "      <td>26984851472</td>\n",
       "      <td>1</td>\n",
       "      <td>1004906</td>\n",
       "      <td>1</td>\n",
       "      <td>1.39</td>\n",
       "      <td>364</td>\n",
       "      <td>-0.60</td>\n",
       "      <td>1631</td>\n",
       "      <td>1</td>\n",
       "      <td>0.0</td>\n",
       "      <td>0.0</td>\n",
       "    </tr>\n",
       "    <tr>\n",
       "      <th>1</th>\n",
       "      <td>2375</td>\n",
       "      <td>26984851472</td>\n",
       "      <td>1</td>\n",
       "      <td>1033142</td>\n",
       "      <td>1</td>\n",
       "      <td>0.82</td>\n",
       "      <td>364</td>\n",
       "      <td>0.00</td>\n",
       "      <td>1631</td>\n",
       "      <td>1</td>\n",
       "      <td>0.0</td>\n",
       "      <td>0.0</td>\n",
       "    </tr>\n",
       "    <tr>\n",
       "      <th>2</th>\n",
       "      <td>2375</td>\n",
       "      <td>26984851472</td>\n",
       "      <td>1</td>\n",
       "      <td>1036325</td>\n",
       "      <td>1</td>\n",
       "      <td>0.99</td>\n",
       "      <td>364</td>\n",
       "      <td>-0.30</td>\n",
       "      <td>1631</td>\n",
       "      <td>1</td>\n",
       "      <td>0.0</td>\n",
       "      <td>0.0</td>\n",
       "    </tr>\n",
       "    <tr>\n",
       "      <th>3</th>\n",
       "      <td>2375</td>\n",
       "      <td>26984851472</td>\n",
       "      <td>1</td>\n",
       "      <td>1082185</td>\n",
       "      <td>1</td>\n",
       "      <td>1.21</td>\n",
       "      <td>364</td>\n",
       "      <td>0.00</td>\n",
       "      <td>1631</td>\n",
       "      <td>1</td>\n",
       "      <td>0.0</td>\n",
       "      <td>0.0</td>\n",
       "    </tr>\n",
       "    <tr>\n",
       "      <th>4</th>\n",
       "      <td>2375</td>\n",
       "      <td>26984851472</td>\n",
       "      <td>1</td>\n",
       "      <td>8160430</td>\n",
       "      <td>1</td>\n",
       "      <td>1.50</td>\n",
       "      <td>364</td>\n",
       "      <td>-0.39</td>\n",
       "      <td>1631</td>\n",
       "      <td>1</td>\n",
       "      <td>0.0</td>\n",
       "      <td>0.0</td>\n",
       "    </tr>\n",
       "  </tbody>\n",
       "</table>\n",
       "</div>"
      ],
      "text/plain": [
       "   household_key    BASKET_ID  DAY  PRODUCT_ID  QUANTITY  SALES_VALUE  \\\n",
       "0           2375  26984851472    1     1004906         1         1.39   \n",
       "1           2375  26984851472    1     1033142         1         0.82   \n",
       "2           2375  26984851472    1     1036325         1         0.99   \n",
       "3           2375  26984851472    1     1082185         1         1.21   \n",
       "4           2375  26984851472    1     8160430         1         1.50   \n",
       "\n",
       "   STORE_ID  RETAIL_DISC  TRANS_TIME  WEEK_NO  COUPON_DISC  COUPON_MATCH_DISC  \n",
       "0       364        -0.60        1631        1          0.0                0.0  \n",
       "1       364         0.00        1631        1          0.0                0.0  \n",
       "2       364        -0.30        1631        1          0.0                0.0  \n",
       "3       364         0.00        1631        1          0.0                0.0  \n",
       "4       364        -0.39        1631        1          0.0                0.0  "
      ]
     },
     "execution_count": 290,
     "metadata": {},
     "output_type": "execute_result"
    }
   ],
   "source": [
    "df_trnsct.head(5)"
   ]
  },
  {
   "cell_type": "code",
   "execution_count": 291,
   "metadata": {},
   "outputs": [
    {
     "name": "stdout",
     "output_type": "stream",
     "text": [
      "<class 'pandas.core.frame.DataFrame'>\n",
      "RangeIndex: 2595732 entries, 0 to 2595731\n",
      "Data columns (total 12 columns):\n",
      " #   Column             Dtype  \n",
      "---  ------             -----  \n",
      " 0   household_key      int64  \n",
      " 1   BASKET_ID          int64  \n",
      " 2   DAY                int64  \n",
      " 3   PRODUCT_ID         int64  \n",
      " 4   QUANTITY           int64  \n",
      " 5   SALES_VALUE        float64\n",
      " 6   STORE_ID           int64  \n",
      " 7   RETAIL_DISC        float64\n",
      " 8   TRANS_TIME         int64  \n",
      " 9   WEEK_NO            int64  \n",
      " 10  COUPON_DISC        float64\n",
      " 11  COUPON_MATCH_DISC  float64\n",
      "dtypes: float64(4), int64(8)\n",
      "memory usage: 237.6 MB\n"
     ]
    }
   ],
   "source": [
    "df_trnsct.info()"
   ]
  },
  {
   "cell_type": "code",
   "execution_count": 292,
   "metadata": {},
   "outputs": [
    {
     "data": {
      "text/plain": [
       "household_key        0\n",
       "BASKET_ID            0\n",
       "DAY                  0\n",
       "PRODUCT_ID           0\n",
       "QUANTITY             0\n",
       "SALES_VALUE          0\n",
       "STORE_ID             0\n",
       "RETAIL_DISC          0\n",
       "TRANS_TIME           0\n",
       "WEEK_NO              0\n",
       "COUPON_DISC          0\n",
       "COUPON_MATCH_DISC    0\n",
       "dtype: int64"
      ]
     },
     "execution_count": 292,
     "metadata": {},
     "output_type": "execute_result"
    }
   ],
   "source": [
    "df_trnsct.isna().sum()"
   ]
  },
  {
   "cell_type": "code",
   "execution_count": 293,
   "metadata": {},
   "outputs": [
    {
     "data": {
      "text/html": [
       "<div>\n",
       "<style scoped>\n",
       "    .dataframe tbody tr th:only-of-type {\n",
       "        vertical-align: middle;\n",
       "    }\n",
       "\n",
       "    .dataframe tbody tr th {\n",
       "        vertical-align: top;\n",
       "    }\n",
       "\n",
       "    .dataframe thead th {\n",
       "        text-align: right;\n",
       "    }\n",
       "</style>\n",
       "<table border=\"1\" class=\"dataframe\">\n",
       "  <thead>\n",
       "    <tr style=\"text-align: right;\">\n",
       "      <th></th>\n",
       "      <th>household_key</th>\n",
       "      <th>BASKET_ID</th>\n",
       "      <th>DAY</th>\n",
       "      <th>PRODUCT_ID</th>\n",
       "      <th>QUANTITY</th>\n",
       "      <th>SALES_VALUE</th>\n",
       "      <th>STORE_ID</th>\n",
       "      <th>RETAIL_DISC</th>\n",
       "      <th>TRANS_TIME</th>\n",
       "      <th>WEEK_NO</th>\n",
       "      <th>COUPON_DISC</th>\n",
       "      <th>COUPON_MATCH_DISC</th>\n",
       "    </tr>\n",
       "  </thead>\n",
       "  <tbody>\n",
       "    <tr>\n",
       "      <th>97</th>\n",
       "      <td>744</td>\n",
       "      <td>26985165432</td>\n",
       "      <td>1</td>\n",
       "      <td>5978648</td>\n",
       "      <td>0</td>\n",
       "      <td>0.0</td>\n",
       "      <td>31582</td>\n",
       "      <td>0.0</td>\n",
       "      <td>1119</td>\n",
       "      <td>1</td>\n",
       "      <td>0.0</td>\n",
       "      <td>0.0</td>\n",
       "    </tr>\n",
       "    <tr>\n",
       "      <th>128</th>\n",
       "      <td>1287</td>\n",
       "      <td>26985336468</td>\n",
       "      <td>1</td>\n",
       "      <td>5978648</td>\n",
       "      <td>0</td>\n",
       "      <td>0.0</td>\n",
       "      <td>304</td>\n",
       "      <td>0.0</td>\n",
       "      <td>1351</td>\n",
       "      <td>1</td>\n",
       "      <td>0.0</td>\n",
       "      <td>0.0</td>\n",
       "    </tr>\n",
       "    <tr>\n",
       "      <th>249</th>\n",
       "      <td>2305</td>\n",
       "      <td>26996870743</td>\n",
       "      <td>2</td>\n",
       "      <td>5978656</td>\n",
       "      <td>0</td>\n",
       "      <td>0.0</td>\n",
       "      <td>414</td>\n",
       "      <td>0.0</td>\n",
       "      <td>1300</td>\n",
       "      <td>1</td>\n",
       "      <td>-1.0</td>\n",
       "      <td>0.0</td>\n",
       "    </tr>\n",
       "    <tr>\n",
       "      <th>293</th>\n",
       "      <td>271</td>\n",
       "      <td>26997082949</td>\n",
       "      <td>2</td>\n",
       "      <td>5978656</td>\n",
       "      <td>0</td>\n",
       "      <td>0.0</td>\n",
       "      <td>329</td>\n",
       "      <td>0.0</td>\n",
       "      <td>1719</td>\n",
       "      <td>1</td>\n",
       "      <td>-2.0</td>\n",
       "      <td>0.0</td>\n",
       "    </tr>\n",
       "    <tr>\n",
       "      <th>694</th>\n",
       "      <td>315</td>\n",
       "      <td>27008952267</td>\n",
       "      <td>3</td>\n",
       "      <td>957951</td>\n",
       "      <td>0</td>\n",
       "      <td>0.0</td>\n",
       "      <td>327</td>\n",
       "      <td>0.0</td>\n",
       "      <td>1707</td>\n",
       "      <td>1</td>\n",
       "      <td>0.0</td>\n",
       "      <td>0.0</td>\n",
       "    </tr>\n",
       "    <tr>\n",
       "      <th>...</th>\n",
       "      <td>...</td>\n",
       "      <td>...</td>\n",
       "      <td>...</td>\n",
       "      <td>...</td>\n",
       "      <td>...</td>\n",
       "      <td>...</td>\n",
       "      <td>...</td>\n",
       "      <td>...</td>\n",
       "      <td>...</td>\n",
       "      <td>...</td>\n",
       "      <td>...</td>\n",
       "      <td>...</td>\n",
       "    </tr>\n",
       "    <tr>\n",
       "      <th>2595140</th>\n",
       "      <td>1146</td>\n",
       "      <td>42289881473</td>\n",
       "      <td>711</td>\n",
       "      <td>5978648</td>\n",
       "      <td>0</td>\n",
       "      <td>0.0</td>\n",
       "      <td>304</td>\n",
       "      <td>0.0</td>\n",
       "      <td>1456</td>\n",
       "      <td>102</td>\n",
       "      <td>0.0</td>\n",
       "      <td>0.0</td>\n",
       "    </tr>\n",
       "    <tr>\n",
       "      <th>2595262</th>\n",
       "      <td>539</td>\n",
       "      <td>42289891395</td>\n",
       "      <td>711</td>\n",
       "      <td>5978648</td>\n",
       "      <td>0</td>\n",
       "      <td>0.0</td>\n",
       "      <td>380</td>\n",
       "      <td>0.0</td>\n",
       "      <td>1232</td>\n",
       "      <td>102</td>\n",
       "      <td>0.0</td>\n",
       "      <td>0.0</td>\n",
       "    </tr>\n",
       "    <tr>\n",
       "      <th>2595280</th>\n",
       "      <td>2338</td>\n",
       "      <td>42289891597</td>\n",
       "      <td>711</td>\n",
       "      <td>5978656</td>\n",
       "      <td>0</td>\n",
       "      <td>0.0</td>\n",
       "      <td>380</td>\n",
       "      <td>0.0</td>\n",
       "      <td>1258</td>\n",
       "      <td>102</td>\n",
       "      <td>-1.0</td>\n",
       "      <td>0.0</td>\n",
       "    </tr>\n",
       "    <tr>\n",
       "      <th>2595563</th>\n",
       "      <td>1098</td>\n",
       "      <td>42289918722</td>\n",
       "      <td>711</td>\n",
       "      <td>5978648</td>\n",
       "      <td>0</td>\n",
       "      <td>0.0</td>\n",
       "      <td>343</td>\n",
       "      <td>0.0</td>\n",
       "      <td>1447</td>\n",
       "      <td>102</td>\n",
       "      <td>0.0</td>\n",
       "      <td>0.0</td>\n",
       "    </tr>\n",
       "    <tr>\n",
       "      <th>2595589</th>\n",
       "      <td>303</td>\n",
       "      <td>42289918892</td>\n",
       "      <td>711</td>\n",
       "      <td>5978656</td>\n",
       "      <td>0</td>\n",
       "      <td>0.0</td>\n",
       "      <td>343</td>\n",
       "      <td>0.0</td>\n",
       "      <td>1513</td>\n",
       "      <td>102</td>\n",
       "      <td>-1.0</td>\n",
       "      <td>0.0</td>\n",
       "    </tr>\n",
       "  </tbody>\n",
       "</table>\n",
       "<p>14466 rows × 12 columns</p>\n",
       "</div>"
      ],
      "text/plain": [
       "         household_key    BASKET_ID  DAY  PRODUCT_ID  QUANTITY  SALES_VALUE  \\\n",
       "97                 744  26985165432    1     5978648         0          0.0   \n",
       "128               1287  26985336468    1     5978648         0          0.0   \n",
       "249               2305  26996870743    2     5978656         0          0.0   \n",
       "293                271  26997082949    2     5978656         0          0.0   \n",
       "694                315  27008952267    3      957951         0          0.0   \n",
       "...                ...          ...  ...         ...       ...          ...   \n",
       "2595140           1146  42289881473  711     5978648         0          0.0   \n",
       "2595262            539  42289891395  711     5978648         0          0.0   \n",
       "2595280           2338  42289891597  711     5978656         0          0.0   \n",
       "2595563           1098  42289918722  711     5978648         0          0.0   \n",
       "2595589            303  42289918892  711     5978656         0          0.0   \n",
       "\n",
       "         STORE_ID  RETAIL_DISC  TRANS_TIME  WEEK_NO  COUPON_DISC  \\\n",
       "97          31582          0.0        1119        1          0.0   \n",
       "128           304          0.0        1351        1          0.0   \n",
       "249           414          0.0        1300        1         -1.0   \n",
       "293           329          0.0        1719        1         -2.0   \n",
       "694           327          0.0        1707        1          0.0   \n",
       "...           ...          ...         ...      ...          ...   \n",
       "2595140       304          0.0        1456      102          0.0   \n",
       "2595262       380          0.0        1232      102          0.0   \n",
       "2595280       380          0.0        1258      102         -1.0   \n",
       "2595563       343          0.0        1447      102          0.0   \n",
       "2595589       343          0.0        1513      102         -1.0   \n",
       "\n",
       "         COUPON_MATCH_DISC  \n",
       "97                     0.0  \n",
       "128                    0.0  \n",
       "249                    0.0  \n",
       "293                    0.0  \n",
       "694                    0.0  \n",
       "...                    ...  \n",
       "2595140                0.0  \n",
       "2595262                0.0  \n",
       "2595280                0.0  \n",
       "2595563                0.0  \n",
       "2595589                0.0  \n",
       "\n",
       "[14466 rows x 12 columns]"
      ]
     },
     "execution_count": 293,
     "metadata": {},
     "output_type": "execute_result"
    }
   ],
   "source": [
    "df_trnsct[df_trnsct['QUANTITY']==0]"
   ]
  },
  {
   "cell_type": "code",
   "execution_count": 294,
   "metadata": {},
   "outputs": [
    {
     "data": {
      "text/plain": [
       "0.005572994438562995"
      ]
     },
     "execution_count": 294,
     "metadata": {},
     "output_type": "execute_result"
    }
   ],
   "source": [
    "len(df_trnsct[df_trnsct['QUANTITY']==0])/len(df_trnsct)"
   ]
  },
  {
   "cell_type": "markdown",
   "metadata": {},
   "source": [
    "On peut voir que ces données sont négligables par rapport à la taille de la dataframe"
   ]
  },
  {
   "cell_type": "code",
   "execution_count": 295,
   "metadata": {},
   "outputs": [],
   "source": [
    "df_trnsct = df_trnsct[df_trnsct['QUANTITY']!=0] # Remove rows with QUANTITY = 0"
   ]
  },
  {
   "cell_type": "code",
   "execution_count": 296,
   "metadata": {},
   "outputs": [
    {
     "data": {
      "text/html": [
       "<div>\n",
       "<style scoped>\n",
       "    .dataframe tbody tr th:only-of-type {\n",
       "        vertical-align: middle;\n",
       "    }\n",
       "\n",
       "    .dataframe tbody tr th {\n",
       "        vertical-align: top;\n",
       "    }\n",
       "\n",
       "    .dataframe thead th {\n",
       "        text-align: right;\n",
       "    }\n",
       "</style>\n",
       "<table border=\"1\" class=\"dataframe\">\n",
       "  <thead>\n",
       "    <tr style=\"text-align: right;\">\n",
       "      <th></th>\n",
       "      <th>household_key</th>\n",
       "      <th>BASKET_ID</th>\n",
       "      <th>DAY</th>\n",
       "      <th>PRODUCT_ID</th>\n",
       "      <th>QUANTITY</th>\n",
       "      <th>SALES_VALUE</th>\n",
       "      <th>STORE_ID</th>\n",
       "      <th>RETAIL_DISC</th>\n",
       "      <th>TRANS_TIME</th>\n",
       "      <th>WEEK_NO</th>\n",
       "      <th>COUPON_DISC</th>\n",
       "      <th>COUPON_MATCH_DISC</th>\n",
       "    </tr>\n",
       "  </thead>\n",
       "  <tbody>\n",
       "    <tr>\n",
       "      <th>766</th>\n",
       "      <td>2110</td>\n",
       "      <td>27009082349</td>\n",
       "      <td>3</td>\n",
       "      <td>837963</td>\n",
       "      <td>1</td>\n",
       "      <td>0.0</td>\n",
       "      <td>375</td>\n",
       "      <td>0.00</td>\n",
       "      <td>1547</td>\n",
       "      <td>1</td>\n",
       "      <td>0.0</td>\n",
       "      <td>0.0</td>\n",
       "    </tr>\n",
       "    <tr>\n",
       "      <th>996</th>\n",
       "      <td>568</td>\n",
       "      <td>27021090189</td>\n",
       "      <td>4</td>\n",
       "      <td>951412</td>\n",
       "      <td>1</td>\n",
       "      <td>0.0</td>\n",
       "      <td>446</td>\n",
       "      <td>-1.48</td>\n",
       "      <td>35</td>\n",
       "      <td>1</td>\n",
       "      <td>0.0</td>\n",
       "      <td>0.0</td>\n",
       "    </tr>\n",
       "    <tr>\n",
       "      <th>1095</th>\n",
       "      <td>2110</td>\n",
       "      <td>27021248054</td>\n",
       "      <td>4</td>\n",
       "      <td>850115</td>\n",
       "      <td>1</td>\n",
       "      <td>0.0</td>\n",
       "      <td>375</td>\n",
       "      <td>-3.29</td>\n",
       "      <td>1705</td>\n",
       "      <td>1</td>\n",
       "      <td>0.0</td>\n",
       "      <td>0.0</td>\n",
       "    </tr>\n",
       "    <tr>\n",
       "      <th>1113</th>\n",
       "      <td>2110</td>\n",
       "      <td>27021248054</td>\n",
       "      <td>4</td>\n",
       "      <td>976872</td>\n",
       "      <td>1</td>\n",
       "      <td>0.0</td>\n",
       "      <td>375</td>\n",
       "      <td>-2.49</td>\n",
       "      <td>1705</td>\n",
       "      <td>1</td>\n",
       "      <td>0.0</td>\n",
       "      <td>0.0</td>\n",
       "    </tr>\n",
       "    <tr>\n",
       "      <th>1161</th>\n",
       "      <td>474</td>\n",
       "      <td>27021262361</td>\n",
       "      <td>4</td>\n",
       "      <td>940108</td>\n",
       "      <td>1</td>\n",
       "      <td>0.0</td>\n",
       "      <td>352</td>\n",
       "      <td>-1.19</td>\n",
       "      <td>2204</td>\n",
       "      <td>1</td>\n",
       "      <td>0.0</td>\n",
       "      <td>0.0</td>\n",
       "    </tr>\n",
       "    <tr>\n",
       "      <th>...</th>\n",
       "      <td>...</td>\n",
       "      <td>...</td>\n",
       "      <td>...</td>\n",
       "      <td>...</td>\n",
       "      <td>...</td>\n",
       "      <td>...</td>\n",
       "      <td>...</td>\n",
       "      <td>...</td>\n",
       "      <td>...</td>\n",
       "      <td>...</td>\n",
       "      <td>...</td>\n",
       "      <td>...</td>\n",
       "    </tr>\n",
       "    <tr>\n",
       "      <th>2591580</th>\n",
       "      <td>1240</td>\n",
       "      <td>42289403211</td>\n",
       "      <td>711</td>\n",
       "      <td>17249161</td>\n",
       "      <td>1</td>\n",
       "      <td>0.0</td>\n",
       "      <td>34011</td>\n",
       "      <td>-7.39</td>\n",
       "      <td>1504</td>\n",
       "      <td>102</td>\n",
       "      <td>0.0</td>\n",
       "      <td>0.0</td>\n",
       "    </tr>\n",
       "    <tr>\n",
       "      <th>2592491</th>\n",
       "      <td>1272</td>\n",
       "      <td>42289555934</td>\n",
       "      <td>711</td>\n",
       "      <td>8064946</td>\n",
       "      <td>1</td>\n",
       "      <td>0.0</td>\n",
       "      <td>448</td>\n",
       "      <td>-3.99</td>\n",
       "      <td>1309</td>\n",
       "      <td>102</td>\n",
       "      <td>0.0</td>\n",
       "      <td>0.0</td>\n",
       "    </tr>\n",
       "    <tr>\n",
       "      <th>2592611</th>\n",
       "      <td>1227</td>\n",
       "      <td>42289576549</td>\n",
       "      <td>711</td>\n",
       "      <td>9803383</td>\n",
       "      <td>1</td>\n",
       "      <td>0.0</td>\n",
       "      <td>401</td>\n",
       "      <td>-1.49</td>\n",
       "      <td>1423</td>\n",
       "      <td>102</td>\n",
       "      <td>0.0</td>\n",
       "      <td>0.0</td>\n",
       "    </tr>\n",
       "    <tr>\n",
       "      <th>2592675</th>\n",
       "      <td>978</td>\n",
       "      <td>42289580875</td>\n",
       "      <td>711</td>\n",
       "      <td>939636</td>\n",
       "      <td>1</td>\n",
       "      <td>0.0</td>\n",
       "      <td>411</td>\n",
       "      <td>-2.10</td>\n",
       "      <td>1146</td>\n",
       "      <td>102</td>\n",
       "      <td>0.0</td>\n",
       "      <td>0.0</td>\n",
       "    </tr>\n",
       "    <tr>\n",
       "      <th>2593945</th>\n",
       "      <td>218</td>\n",
       "      <td>42289735899</td>\n",
       "      <td>711</td>\n",
       "      <td>928584</td>\n",
       "      <td>1</td>\n",
       "      <td>0.0</td>\n",
       "      <td>321</td>\n",
       "      <td>-5.99</td>\n",
       "      <td>1059</td>\n",
       "      <td>102</td>\n",
       "      <td>0.0</td>\n",
       "      <td>0.0</td>\n",
       "    </tr>\n",
       "  </tbody>\n",
       "</table>\n",
       "<p>4451 rows × 12 columns</p>\n",
       "</div>"
      ],
      "text/plain": [
       "         household_key    BASKET_ID  DAY  PRODUCT_ID  QUANTITY  SALES_VALUE  \\\n",
       "766               2110  27009082349    3      837963         1          0.0   \n",
       "996                568  27021090189    4      951412         1          0.0   \n",
       "1095              2110  27021248054    4      850115         1          0.0   \n",
       "1113              2110  27021248054    4      976872         1          0.0   \n",
       "1161               474  27021262361    4      940108         1          0.0   \n",
       "...                ...          ...  ...         ...       ...          ...   \n",
       "2591580           1240  42289403211  711    17249161         1          0.0   \n",
       "2592491           1272  42289555934  711     8064946         1          0.0   \n",
       "2592611           1227  42289576549  711     9803383         1          0.0   \n",
       "2592675            978  42289580875  711      939636         1          0.0   \n",
       "2593945            218  42289735899  711      928584         1          0.0   \n",
       "\n",
       "         STORE_ID  RETAIL_DISC  TRANS_TIME  WEEK_NO  COUPON_DISC  \\\n",
       "766           375         0.00        1547        1          0.0   \n",
       "996           446        -1.48          35        1          0.0   \n",
       "1095          375        -3.29        1705        1          0.0   \n",
       "1113          375        -2.49        1705        1          0.0   \n",
       "1161          352        -1.19        2204        1          0.0   \n",
       "...           ...          ...         ...      ...          ...   \n",
       "2591580     34011        -7.39        1504      102          0.0   \n",
       "2592491       448        -3.99        1309      102          0.0   \n",
       "2592611       401        -1.49        1423      102          0.0   \n",
       "2592675       411        -2.10        1146      102          0.0   \n",
       "2593945       321        -5.99        1059      102          0.0   \n",
       "\n",
       "         COUPON_MATCH_DISC  \n",
       "766                    0.0  \n",
       "996                    0.0  \n",
       "1095                   0.0  \n",
       "1113                   0.0  \n",
       "1161                   0.0  \n",
       "...                    ...  \n",
       "2591580                0.0  \n",
       "2592491                0.0  \n",
       "2592611                0.0  \n",
       "2592675                0.0  \n",
       "2593945                0.0  \n",
       "\n",
       "[4451 rows x 12 columns]"
      ]
     },
     "execution_count": 296,
     "metadata": {},
     "output_type": "execute_result"
    }
   ],
   "source": [
    "df_trnsct[df_trnsct['SALES_VALUE']==0]"
   ]
  },
  {
   "cell_type": "code",
   "execution_count": 297,
   "metadata": {},
   "outputs": [
    {
     "data": {
      "text/plain": [
       "0.001724347665060478"
      ]
     },
     "execution_count": 297,
     "metadata": {},
     "output_type": "execute_result"
    }
   ],
   "source": [
    "len(df_trnsct[df_trnsct['SALES_VALUE']==0])/len(df_trnsct)"
   ]
  },
  {
   "cell_type": "code",
   "execution_count": 298,
   "metadata": {},
   "outputs": [],
   "source": [
    "df_trnsct = df_trnsct[df_trnsct['SALES_VALUE']!=0] # Remove rows with QUANTITY = 0"
   ]
  },
  {
   "cell_type": "markdown",
   "metadata": {},
   "source": [
    "---"
   ]
  },
  {
   "cell_type": "markdown",
   "metadata": {},
   "source": [
    "## 3. Products Dataframe"
   ]
  },
  {
   "cell_type": "code",
   "execution_count": 299,
   "metadata": {},
   "outputs": [
    {
     "data": {
      "text/html": [
       "<div>\n",
       "<style scoped>\n",
       "    .dataframe tbody tr th:only-of-type {\n",
       "        vertical-align: middle;\n",
       "    }\n",
       "\n",
       "    .dataframe tbody tr th {\n",
       "        vertical-align: top;\n",
       "    }\n",
       "\n",
       "    .dataframe thead th {\n",
       "        text-align: right;\n",
       "    }\n",
       "</style>\n",
       "<table border=\"1\" class=\"dataframe\">\n",
       "  <thead>\n",
       "    <tr style=\"text-align: right;\">\n",
       "      <th></th>\n",
       "      <th>PRODUCT_ID</th>\n",
       "      <th>MANUFACTURER</th>\n",
       "      <th>DEPARTMENT</th>\n",
       "      <th>BRAND</th>\n",
       "      <th>COMMODITY_DESC</th>\n",
       "      <th>SUB_COMMODITY_DESC</th>\n",
       "      <th>CURR_SIZE_OF_PRODUCT</th>\n",
       "    </tr>\n",
       "  </thead>\n",
       "  <tbody>\n",
       "    <tr>\n",
       "      <th>0</th>\n",
       "      <td>25671</td>\n",
       "      <td>2</td>\n",
       "      <td>GROCERY</td>\n",
       "      <td>National</td>\n",
       "      <td>FRZN ICE</td>\n",
       "      <td>ICE - CRUSHED/CUBED</td>\n",
       "      <td>22 LB</td>\n",
       "    </tr>\n",
       "    <tr>\n",
       "      <th>1</th>\n",
       "      <td>26081</td>\n",
       "      <td>2</td>\n",
       "      <td>MISC. TRANS.</td>\n",
       "      <td>National</td>\n",
       "      <td>NO COMMODITY DESCRIPTION</td>\n",
       "      <td>NO SUBCOMMODITY DESCRIPTION</td>\n",
       "      <td></td>\n",
       "    </tr>\n",
       "    <tr>\n",
       "      <th>2</th>\n",
       "      <td>26093</td>\n",
       "      <td>69</td>\n",
       "      <td>PASTRY</td>\n",
       "      <td>Private</td>\n",
       "      <td>BREAD</td>\n",
       "      <td>BREAD:ITALIAN/FRENCH</td>\n",
       "      <td></td>\n",
       "    </tr>\n",
       "    <tr>\n",
       "      <th>3</th>\n",
       "      <td>26190</td>\n",
       "      <td>69</td>\n",
       "      <td>GROCERY</td>\n",
       "      <td>Private</td>\n",
       "      <td>FRUIT - SHELF STABLE</td>\n",
       "      <td>APPLE SAUCE</td>\n",
       "      <td>50 OZ</td>\n",
       "    </tr>\n",
       "    <tr>\n",
       "      <th>4</th>\n",
       "      <td>26355</td>\n",
       "      <td>69</td>\n",
       "      <td>GROCERY</td>\n",
       "      <td>Private</td>\n",
       "      <td>COOKIES/CONES</td>\n",
       "      <td>SPECIALTY COOKIES</td>\n",
       "      <td>14 OZ</td>\n",
       "    </tr>\n",
       "  </tbody>\n",
       "</table>\n",
       "</div>"
      ],
      "text/plain": [
       "   PRODUCT_ID  MANUFACTURER    DEPARTMENT     BRAND            COMMODITY_DESC  \\\n",
       "0       25671             2       GROCERY  National                  FRZN ICE   \n",
       "1       26081             2  MISC. TRANS.  National  NO COMMODITY DESCRIPTION   \n",
       "2       26093            69        PASTRY   Private                     BREAD   \n",
       "3       26190            69       GROCERY   Private      FRUIT - SHELF STABLE   \n",
       "4       26355            69       GROCERY   Private             COOKIES/CONES   \n",
       "\n",
       "            SUB_COMMODITY_DESC CURR_SIZE_OF_PRODUCT  \n",
       "0          ICE - CRUSHED/CUBED                22 LB  \n",
       "1  NO SUBCOMMODITY DESCRIPTION                       \n",
       "2         BREAD:ITALIAN/FRENCH                       \n",
       "3                  APPLE SAUCE                50 OZ  \n",
       "4            SPECIALTY COOKIES                14 OZ  "
      ]
     },
     "execution_count": 299,
     "metadata": {},
     "output_type": "execute_result"
    }
   ],
   "source": [
    "df_product.head(5)"
   ]
  },
  {
   "cell_type": "code",
   "execution_count": 300,
   "metadata": {},
   "outputs": [
    {
     "data": {
      "text/plain": [
       "CURR_SIZE_OF_PRODUCT\n",
       "              30607\n",
       "16 OZ          3924\n",
       "12 OZ          3473\n",
       "8 OZ           2363\n",
       "6 OZ           1697\n",
       "              ...  \n",
       "4/3.75OZ          1\n",
       "24 OZ/ CAN        1\n",
       "997874  PK        1\n",
       "19.3 OZ           1\n",
       "2 LTR PET         1\n",
       "Name: count, Length: 4345, dtype: int64"
      ]
     },
     "execution_count": 300,
     "metadata": {},
     "output_type": "execute_result"
    }
   ],
   "source": [
    "# Display list of values in CURR_SIZE_OF_PRODUCT columns\n",
    "df_product[\"CURR_SIZE_OF_PRODUCT\"].value_counts()"
   ]
  },
  {
   "cell_type": "code",
   "execution_count": 301,
   "metadata": {},
   "outputs": [
    {
     "data": {
      "text/plain": [
       "DEPARTMENT\n",
       "GROCERY            39021\n",
       "DRUG GM            31529\n",
       "PRODUCE             3118\n",
       "COSMETICS           3011\n",
       "NUTRITION           2914\n",
       "MEAT                2544\n",
       "MEAT-PCKGD          2427\n",
       "DELI                2354\n",
       "PASTRY              2149\n",
       "FLORAL               938\n",
       "SEAFOOD-PCKGD        563\n",
       "MISC. TRANS.         490\n",
       "SPIRITS              377\n",
       "SEAFOOD              369\n",
       "GARDEN CENTER        128\n",
       "RESTAURANT           102\n",
       "MISC SALES TRAN       88\n",
       "SALAD BAR             48\n",
       "COUP/STR & MFG        39\n",
       "TRAVEL & LEISUR       28\n",
       "FROZEN GROCERY        23\n",
       "KIOSK-GAS             16\n",
       "                      15\n",
       "CHEF SHOPPE           14\n",
       "RX                     9\n",
       "CNTRL/STORE SUP        4\n",
       "DAIRY DELI             3\n",
       "TOYS                   3\n",
       "POSTAL CENTER          3\n",
       "GM MERCH EXP           3\n",
       "VIDEO RENTAL           3\n",
       "AUTOMOTIVE             2\n",
       "PHOTO                  2\n",
       "VIDEO                  2\n",
       "PROD-WHS SALES         2\n",
       "DELI/SNACK BAR         2\n",
       "CHARITABLE CONT        2\n",
       "GRO BAKERY             2\n",
       "PORK                   1\n",
       "HBC                    1\n",
       "MEAT-WHSE              1\n",
       "HOUSEWARES             1\n",
       "ELECT &PLUMBING        1\n",
       "PHARMACY SUPPLY        1\n",
       "Name: count, dtype: int64"
      ]
     },
     "execution_count": 301,
     "metadata": {},
     "output_type": "execute_result"
    }
   ],
   "source": [
    "# Display list of values in DEPARTMENT columns\n",
    "df_product[\"DEPARTMENT\"].value_counts()"
   ]
  },
  {
   "cell_type": "code",
   "execution_count": 302,
   "metadata": {},
   "outputs": [
    {
     "data": {
      "text/html": [
       "<div>\n",
       "<style scoped>\n",
       "    .dataframe tbody tr th:only-of-type {\n",
       "        vertical-align: middle;\n",
       "    }\n",
       "\n",
       "    .dataframe tbody tr th {\n",
       "        vertical-align: top;\n",
       "    }\n",
       "\n",
       "    .dataframe thead th {\n",
       "        text-align: right;\n",
       "    }\n",
       "</style>\n",
       "<table border=\"1\" class=\"dataframe\">\n",
       "  <thead>\n",
       "    <tr style=\"text-align: right;\">\n",
       "      <th></th>\n",
       "      <th>PRODUCT_ID</th>\n",
       "      <th>MANUFACTURER</th>\n",
       "      <th>DEPARTMENT</th>\n",
       "      <th>BRAND</th>\n",
       "      <th>COMMODITY_DESC</th>\n",
       "      <th>SUB_COMMODITY_DESC</th>\n",
       "      <th>CURR_SIZE_OF_PRODUCT</th>\n",
       "    </tr>\n",
       "  </thead>\n",
       "  <tbody>\n",
       "    <tr>\n",
       "      <th>0</th>\n",
       "      <td>25671</td>\n",
       "      <td>2</td>\n",
       "      <td>GROCERY</td>\n",
       "      <td>National</td>\n",
       "      <td>FRZN ICE</td>\n",
       "      <td>ICE - CRUSHED/CUBED</td>\n",
       "      <td>22 LB</td>\n",
       "    </tr>\n",
       "    <tr>\n",
       "      <th>1</th>\n",
       "      <td>26081</td>\n",
       "      <td>2</td>\n",
       "      <td>MISC. TRANS.</td>\n",
       "      <td>National</td>\n",
       "      <td>NO COMMODITY DESCRIPTION</td>\n",
       "      <td>NO SUBCOMMODITY DESCRIPTION</td>\n",
       "      <td></td>\n",
       "    </tr>\n",
       "    <tr>\n",
       "      <th>2</th>\n",
       "      <td>26093</td>\n",
       "      <td>69</td>\n",
       "      <td>PASTRY</td>\n",
       "      <td>Private</td>\n",
       "      <td>BREAD</td>\n",
       "      <td>BREAD:ITALIAN/FRENCH</td>\n",
       "      <td></td>\n",
       "    </tr>\n",
       "    <tr>\n",
       "      <th>3</th>\n",
       "      <td>26190</td>\n",
       "      <td>69</td>\n",
       "      <td>GROCERY</td>\n",
       "      <td>Private</td>\n",
       "      <td>FRUIT - SHELF STABLE</td>\n",
       "      <td>APPLE SAUCE</td>\n",
       "      <td>50 OZ</td>\n",
       "    </tr>\n",
       "    <tr>\n",
       "      <th>4</th>\n",
       "      <td>26355</td>\n",
       "      <td>69</td>\n",
       "      <td>GROCERY</td>\n",
       "      <td>Private</td>\n",
       "      <td>COOKIES/CONES</td>\n",
       "      <td>SPECIALTY COOKIES</td>\n",
       "      <td>14 OZ</td>\n",
       "    </tr>\n",
       "    <tr>\n",
       "      <th>...</th>\n",
       "      <td>...</td>\n",
       "      <td>...</td>\n",
       "      <td>...</td>\n",
       "      <td>...</td>\n",
       "      <td>...</td>\n",
       "      <td>...</td>\n",
       "      <td>...</td>\n",
       "    </tr>\n",
       "    <tr>\n",
       "      <th>92348</th>\n",
       "      <td>18293142</td>\n",
       "      <td>6384</td>\n",
       "      <td>DRUG GM</td>\n",
       "      <td>National</td>\n",
       "      <td>BOOKSTORE</td>\n",
       "      <td>PAPERBACK BOOKS</td>\n",
       "      <td></td>\n",
       "    </tr>\n",
       "    <tr>\n",
       "      <th>92349</th>\n",
       "      <td>18293439</td>\n",
       "      <td>6393</td>\n",
       "      <td>DRUG GM</td>\n",
       "      <td>National</td>\n",
       "      <td>BOOKSTORE</td>\n",
       "      <td>CHILDRENS LOW END</td>\n",
       "      <td></td>\n",
       "    </tr>\n",
       "    <tr>\n",
       "      <th>92350</th>\n",
       "      <td>18293696</td>\n",
       "      <td>6406</td>\n",
       "      <td>DRUG GM</td>\n",
       "      <td>National</td>\n",
       "      <td>BOOKSTORE</td>\n",
       "      <td>PAPERBACK BEST SELLER</td>\n",
       "      <td></td>\n",
       "    </tr>\n",
       "    <tr>\n",
       "      <th>92351</th>\n",
       "      <td>18294080</td>\n",
       "      <td>6442</td>\n",
       "      <td>DRUG GM</td>\n",
       "      <td>National</td>\n",
       "      <td>BOOKSTORE</td>\n",
       "      <td>PAPERBACK BOOKS</td>\n",
       "      <td></td>\n",
       "    </tr>\n",
       "    <tr>\n",
       "      <th>92352</th>\n",
       "      <td>18316298</td>\n",
       "      <td>764</td>\n",
       "      <td>GROCERY</td>\n",
       "      <td>National</td>\n",
       "      <td>PAPER TOWELS</td>\n",
       "      <td>PAPER TOWELS &amp; HOLDERS</td>\n",
       "      <td></td>\n",
       "    </tr>\n",
       "  </tbody>\n",
       "</table>\n",
       "<p>92353 rows × 7 columns</p>\n",
       "</div>"
      ],
      "text/plain": [
       "       PRODUCT_ID  MANUFACTURER    DEPARTMENT     BRAND  \\\n",
       "0           25671             2       GROCERY  National   \n",
       "1           26081             2  MISC. TRANS.  National   \n",
       "2           26093            69        PASTRY   Private   \n",
       "3           26190            69       GROCERY   Private   \n",
       "4           26355            69       GROCERY   Private   \n",
       "...           ...           ...           ...       ...   \n",
       "92348    18293142          6384       DRUG GM  National   \n",
       "92349    18293439          6393       DRUG GM  National   \n",
       "92350    18293696          6406       DRUG GM  National   \n",
       "92351    18294080          6442       DRUG GM  National   \n",
       "92352    18316298           764       GROCERY  National   \n",
       "\n",
       "                 COMMODITY_DESC           SUB_COMMODITY_DESC  \\\n",
       "0                      FRZN ICE          ICE - CRUSHED/CUBED   \n",
       "1      NO COMMODITY DESCRIPTION  NO SUBCOMMODITY DESCRIPTION   \n",
       "2                         BREAD         BREAD:ITALIAN/FRENCH   \n",
       "3          FRUIT - SHELF STABLE                  APPLE SAUCE   \n",
       "4                 COOKIES/CONES            SPECIALTY COOKIES   \n",
       "...                         ...                          ...   \n",
       "92348                 BOOKSTORE              PAPERBACK BOOKS   \n",
       "92349                 BOOKSTORE            CHILDRENS LOW END   \n",
       "92350                 BOOKSTORE        PAPERBACK BEST SELLER   \n",
       "92351                 BOOKSTORE              PAPERBACK BOOKS   \n",
       "92352              PAPER TOWELS       PAPER TOWELS & HOLDERS   \n",
       "\n",
       "      CURR_SIZE_OF_PRODUCT  \n",
       "0                    22 LB  \n",
       "1                           \n",
       "2                           \n",
       "3                    50 OZ  \n",
       "4                    14 OZ  \n",
       "...                    ...  \n",
       "92348                       \n",
       "92349                       \n",
       "92350                       \n",
       "92351                       \n",
       "92352                       \n",
       "\n",
       "[92353 rows x 7 columns]"
      ]
     },
     "execution_count": 302,
     "metadata": {},
     "output_type": "execute_result"
    }
   ],
   "source": [
    "df_product"
   ]
  },
  {
   "cell_type": "markdown",
   "metadata": {},
   "source": [
    "---"
   ]
  },
  {
   "cell_type": "markdown",
   "metadata": {},
   "source": [
    "## 4.Campaigns Dataframe"
   ]
  },
  {
   "cell_type": "code",
   "execution_count": 303,
   "metadata": {},
   "outputs": [
    {
     "data": {
      "text/html": [
       "<div>\n",
       "<style scoped>\n",
       "    .dataframe tbody tr th:only-of-type {\n",
       "        vertical-align: middle;\n",
       "    }\n",
       "\n",
       "    .dataframe tbody tr th {\n",
       "        vertical-align: top;\n",
       "    }\n",
       "\n",
       "    .dataframe thead th {\n",
       "        text-align: right;\n",
       "    }\n",
       "</style>\n",
       "<table border=\"1\" class=\"dataframe\">\n",
       "  <thead>\n",
       "    <tr style=\"text-align: right;\">\n",
       "      <th></th>\n",
       "      <th>DESCRIPTION</th>\n",
       "      <th>CAMPAIGN</th>\n",
       "      <th>START_DAY</th>\n",
       "      <th>END_DAY</th>\n",
       "    </tr>\n",
       "  </thead>\n",
       "  <tbody>\n",
       "    <tr>\n",
       "      <th>0</th>\n",
       "      <td>TypeB</td>\n",
       "      <td>24</td>\n",
       "      <td>659</td>\n",
       "      <td>719</td>\n",
       "    </tr>\n",
       "    <tr>\n",
       "      <th>1</th>\n",
       "      <td>TypeC</td>\n",
       "      <td>15</td>\n",
       "      <td>547</td>\n",
       "      <td>708</td>\n",
       "    </tr>\n",
       "    <tr>\n",
       "      <th>2</th>\n",
       "      <td>TypeB</td>\n",
       "      <td>25</td>\n",
       "      <td>659</td>\n",
       "      <td>691</td>\n",
       "    </tr>\n",
       "    <tr>\n",
       "      <th>3</th>\n",
       "      <td>TypeC</td>\n",
       "      <td>20</td>\n",
       "      <td>615</td>\n",
       "      <td>685</td>\n",
       "    </tr>\n",
       "    <tr>\n",
       "      <th>4</th>\n",
       "      <td>TypeB</td>\n",
       "      <td>23</td>\n",
       "      <td>646</td>\n",
       "      <td>684</td>\n",
       "    </tr>\n",
       "  </tbody>\n",
       "</table>\n",
       "</div>"
      ],
      "text/plain": [
       "  DESCRIPTION  CAMPAIGN  START_DAY  END_DAY\n",
       "0       TypeB        24        659      719\n",
       "1       TypeC        15        547      708\n",
       "2       TypeB        25        659      691\n",
       "3       TypeC        20        615      685\n",
       "4       TypeB        23        646      684"
      ]
     },
     "execution_count": 303,
     "metadata": {},
     "output_type": "execute_result"
    }
   ],
   "source": [
    "df_campaign.head(5)"
   ]
  },
  {
   "cell_type": "code",
   "execution_count": 304,
   "metadata": {},
   "outputs": [
    {
     "name": "stdout",
     "output_type": "stream",
     "text": [
      "<class 'pandas.core.frame.DataFrame'>\n",
      "RangeIndex: 30 entries, 0 to 29\n",
      "Data columns (total 4 columns):\n",
      " #   Column       Non-Null Count  Dtype \n",
      "---  ------       --------------  ----- \n",
      " 0   DESCRIPTION  30 non-null     object\n",
      " 1   CAMPAIGN     30 non-null     int64 \n",
      " 2   START_DAY    30 non-null     int64 \n",
      " 3   END_DAY      30 non-null     int64 \n",
      "dtypes: int64(3), object(1)\n",
      "memory usage: 1.1+ KB\n"
     ]
    }
   ],
   "source": [
    "df_campaign.info()"
   ]
  },
  {
   "cell_type": "markdown",
   "metadata": {},
   "source": [
    "---"
   ]
  },
  {
   "cell_type": "markdown",
   "metadata": {},
   "source": [
    "# Other Data Processing"
   ]
  },
  {
   "cell_type": "code",
   "execution_count": 305,
   "metadata": {},
   "outputs": [
    {
     "data": {
      "text/html": [
       "<div>\n",
       "<style scoped>\n",
       "    .dataframe tbody tr th:only-of-type {\n",
       "        vertical-align: middle;\n",
       "    }\n",
       "\n",
       "    .dataframe tbody tr th {\n",
       "        vertical-align: top;\n",
       "    }\n",
       "\n",
       "    .dataframe thead th {\n",
       "        text-align: right;\n",
       "    }\n",
       "</style>\n",
       "<table border=\"1\" class=\"dataframe\">\n",
       "  <thead>\n",
       "    <tr style=\"text-align: right;\">\n",
       "      <th></th>\n",
       "      <th>household_key</th>\n",
       "      <th>BASKET_ID</th>\n",
       "      <th>DAY</th>\n",
       "      <th>PRODUCT_ID</th>\n",
       "      <th>QUANTITY</th>\n",
       "      <th>SALES_VALUE</th>\n",
       "      <th>STORE_ID</th>\n",
       "      <th>RETAIL_DISC</th>\n",
       "      <th>TRANS_TIME</th>\n",
       "      <th>WEEK_NO</th>\n",
       "      <th>COUPON_DISC</th>\n",
       "      <th>COUPON_MATCH_DISC</th>\n",
       "    </tr>\n",
       "  </thead>\n",
       "  <tbody>\n",
       "    <tr>\n",
       "      <th>0</th>\n",
       "      <td>2375</td>\n",
       "      <td>26984851472</td>\n",
       "      <td>1</td>\n",
       "      <td>1004906</td>\n",
       "      <td>1</td>\n",
       "      <td>1.39</td>\n",
       "      <td>364</td>\n",
       "      <td>-0.60</td>\n",
       "      <td>1631</td>\n",
       "      <td>1</td>\n",
       "      <td>0.0</td>\n",
       "      <td>0.0</td>\n",
       "    </tr>\n",
       "    <tr>\n",
       "      <th>1</th>\n",
       "      <td>2375</td>\n",
       "      <td>26984851472</td>\n",
       "      <td>1</td>\n",
       "      <td>1033142</td>\n",
       "      <td>1</td>\n",
       "      <td>0.82</td>\n",
       "      <td>364</td>\n",
       "      <td>0.00</td>\n",
       "      <td>1631</td>\n",
       "      <td>1</td>\n",
       "      <td>0.0</td>\n",
       "      <td>0.0</td>\n",
       "    </tr>\n",
       "    <tr>\n",
       "      <th>2</th>\n",
       "      <td>2375</td>\n",
       "      <td>26984851472</td>\n",
       "      <td>1</td>\n",
       "      <td>1036325</td>\n",
       "      <td>1</td>\n",
       "      <td>0.99</td>\n",
       "      <td>364</td>\n",
       "      <td>-0.30</td>\n",
       "      <td>1631</td>\n",
       "      <td>1</td>\n",
       "      <td>0.0</td>\n",
       "      <td>0.0</td>\n",
       "    </tr>\n",
       "    <tr>\n",
       "      <th>3</th>\n",
       "      <td>2375</td>\n",
       "      <td>26984851472</td>\n",
       "      <td>1</td>\n",
       "      <td>1082185</td>\n",
       "      <td>1</td>\n",
       "      <td>1.21</td>\n",
       "      <td>364</td>\n",
       "      <td>0.00</td>\n",
       "      <td>1631</td>\n",
       "      <td>1</td>\n",
       "      <td>0.0</td>\n",
       "      <td>0.0</td>\n",
       "    </tr>\n",
       "    <tr>\n",
       "      <th>4</th>\n",
       "      <td>2375</td>\n",
       "      <td>26984851472</td>\n",
       "      <td>1</td>\n",
       "      <td>8160430</td>\n",
       "      <td>1</td>\n",
       "      <td>1.50</td>\n",
       "      <td>364</td>\n",
       "      <td>-0.39</td>\n",
       "      <td>1631</td>\n",
       "      <td>1</td>\n",
       "      <td>0.0</td>\n",
       "      <td>0.0</td>\n",
       "    </tr>\n",
       "    <tr>\n",
       "      <th>...</th>\n",
       "      <td>...</td>\n",
       "      <td>...</td>\n",
       "      <td>...</td>\n",
       "      <td>...</td>\n",
       "      <td>...</td>\n",
       "      <td>...</td>\n",
       "      <td>...</td>\n",
       "      <td>...</td>\n",
       "      <td>...</td>\n",
       "      <td>...</td>\n",
       "      <td>...</td>\n",
       "      <td>...</td>\n",
       "    </tr>\n",
       "    <tr>\n",
       "      <th>2595727</th>\n",
       "      <td>1598</td>\n",
       "      <td>42305362535</td>\n",
       "      <td>711</td>\n",
       "      <td>92130</td>\n",
       "      <td>1</td>\n",
       "      <td>0.99</td>\n",
       "      <td>3228</td>\n",
       "      <td>0.00</td>\n",
       "      <td>1520</td>\n",
       "      <td>102</td>\n",
       "      <td>0.0</td>\n",
       "      <td>0.0</td>\n",
       "    </tr>\n",
       "    <tr>\n",
       "      <th>2595728</th>\n",
       "      <td>1598</td>\n",
       "      <td>42305362535</td>\n",
       "      <td>711</td>\n",
       "      <td>114102</td>\n",
       "      <td>1</td>\n",
       "      <td>8.89</td>\n",
       "      <td>3228</td>\n",
       "      <td>0.00</td>\n",
       "      <td>1520</td>\n",
       "      <td>102</td>\n",
       "      <td>0.0</td>\n",
       "      <td>0.0</td>\n",
       "    </tr>\n",
       "    <tr>\n",
       "      <th>2595729</th>\n",
       "      <td>1598</td>\n",
       "      <td>42305362535</td>\n",
       "      <td>711</td>\n",
       "      <td>133449</td>\n",
       "      <td>1</td>\n",
       "      <td>6.99</td>\n",
       "      <td>3228</td>\n",
       "      <td>0.00</td>\n",
       "      <td>1520</td>\n",
       "      <td>102</td>\n",
       "      <td>0.0</td>\n",
       "      <td>0.0</td>\n",
       "    </tr>\n",
       "    <tr>\n",
       "      <th>2595730</th>\n",
       "      <td>1598</td>\n",
       "      <td>42305362535</td>\n",
       "      <td>711</td>\n",
       "      <td>6923644</td>\n",
       "      <td>1</td>\n",
       "      <td>4.50</td>\n",
       "      <td>3228</td>\n",
       "      <td>-0.49</td>\n",
       "      <td>1520</td>\n",
       "      <td>102</td>\n",
       "      <td>0.0</td>\n",
       "      <td>0.0</td>\n",
       "    </tr>\n",
       "    <tr>\n",
       "      <th>2595731</th>\n",
       "      <td>1598</td>\n",
       "      <td>42305362535</td>\n",
       "      <td>711</td>\n",
       "      <td>14055192</td>\n",
       "      <td>1</td>\n",
       "      <td>6.99</td>\n",
       "      <td>3228</td>\n",
       "      <td>0.00</td>\n",
       "      <td>1520</td>\n",
       "      <td>102</td>\n",
       "      <td>0.0</td>\n",
       "      <td>0.0</td>\n",
       "    </tr>\n",
       "  </tbody>\n",
       "</table>\n",
       "<p>2576815 rows × 12 columns</p>\n",
       "</div>"
      ],
      "text/plain": [
       "         household_key    BASKET_ID  DAY  PRODUCT_ID  QUANTITY  SALES_VALUE  \\\n",
       "0                 2375  26984851472    1     1004906         1         1.39   \n",
       "1                 2375  26984851472    1     1033142         1         0.82   \n",
       "2                 2375  26984851472    1     1036325         1         0.99   \n",
       "3                 2375  26984851472    1     1082185         1         1.21   \n",
       "4                 2375  26984851472    1     8160430         1         1.50   \n",
       "...                ...          ...  ...         ...       ...          ...   \n",
       "2595727           1598  42305362535  711       92130         1         0.99   \n",
       "2595728           1598  42305362535  711      114102         1         8.89   \n",
       "2595729           1598  42305362535  711      133449         1         6.99   \n",
       "2595730           1598  42305362535  711     6923644         1         4.50   \n",
       "2595731           1598  42305362535  711    14055192         1         6.99   \n",
       "\n",
       "         STORE_ID  RETAIL_DISC  TRANS_TIME  WEEK_NO  COUPON_DISC  \\\n",
       "0             364        -0.60        1631        1          0.0   \n",
       "1             364         0.00        1631        1          0.0   \n",
       "2             364        -0.30        1631        1          0.0   \n",
       "3             364         0.00        1631        1          0.0   \n",
       "4             364        -0.39        1631        1          0.0   \n",
       "...           ...          ...         ...      ...          ...   \n",
       "2595727      3228         0.00        1520      102          0.0   \n",
       "2595728      3228         0.00        1520      102          0.0   \n",
       "2595729      3228         0.00        1520      102          0.0   \n",
       "2595730      3228        -0.49        1520      102          0.0   \n",
       "2595731      3228         0.00        1520      102          0.0   \n",
       "\n",
       "         COUPON_MATCH_DISC  \n",
       "0                      0.0  \n",
       "1                      0.0  \n",
       "2                      0.0  \n",
       "3                      0.0  \n",
       "4                      0.0  \n",
       "...                    ...  \n",
       "2595727                0.0  \n",
       "2595728                0.0  \n",
       "2595729                0.0  \n",
       "2595730                0.0  \n",
       "2595731                0.0  \n",
       "\n",
       "[2576815 rows x 12 columns]"
      ]
     },
     "execution_count": 305,
     "metadata": {},
     "output_type": "execute_result"
    }
   ],
   "source": [
    "df_trnsct"
   ]
  },
  {
   "cell_type": "code",
   "execution_count": 306,
   "metadata": {},
   "outputs": [],
   "source": [
    "# Create new column \"PRODUCT_SHELF_PRICE\" in df_trnsct DataFrame\n",
    "# This column is calculated as the average unit shelf price of a product deducing all discounts and dividing by the quantity\n",
    "df_trnsct[\"PRODUCT_SHELF_PRICE\"] = (df_trnsct[\"SALES_VALUE\"] - (df_trnsct[\"COUPON_MATCH_DISC\"] + df_trnsct[\"RETAIL_DISC\"])) / df_trnsct[\"QUANTITY\"]\n",
    "df_product[\"PRODUCT_SHELF_PRICE\"]=df_product.merge(df_trnsct[\"PRODUCT_SHELF_PRICE\"].groupby(df_trnsct[\"PRODUCT_ID\"]).mean(),on=\"PRODUCT_ID\",how=\"left\")[\"PRODUCT_SHELF_PRICE\"]\n"
   ]
  },
  {
   "cell_type": "code",
   "execution_count": 307,
   "metadata": {},
   "outputs": [
    {
     "data": {
      "text/html": [
       "<div>\n",
       "<style scoped>\n",
       "    .dataframe tbody tr th:only-of-type {\n",
       "        vertical-align: middle;\n",
       "    }\n",
       "\n",
       "    .dataframe tbody tr th {\n",
       "        vertical-align: top;\n",
       "    }\n",
       "\n",
       "    .dataframe thead th {\n",
       "        text-align: right;\n",
       "    }\n",
       "</style>\n",
       "<table border=\"1\" class=\"dataframe\">\n",
       "  <thead>\n",
       "    <tr style=\"text-align: right;\">\n",
       "      <th></th>\n",
       "      <th>household_key</th>\n",
       "      <th>BASKET_ID</th>\n",
       "      <th>DAY</th>\n",
       "      <th>PRODUCT_ID</th>\n",
       "      <th>QUANTITY</th>\n",
       "      <th>SALES_VALUE</th>\n",
       "      <th>STORE_ID</th>\n",
       "      <th>RETAIL_DISC</th>\n",
       "      <th>TRANS_TIME</th>\n",
       "      <th>WEEK_NO</th>\n",
       "      <th>COUPON_DISC</th>\n",
       "      <th>COUPON_MATCH_DISC</th>\n",
       "      <th>PRODUCT_SHELF_PRICE</th>\n",
       "    </tr>\n",
       "  </thead>\n",
       "  <tbody>\n",
       "  </tbody>\n",
       "</table>\n",
       "</div>"
      ],
      "text/plain": [
       "Empty DataFrame\n",
       "Columns: [household_key, BASKET_ID, DAY, PRODUCT_ID, QUANTITY, SALES_VALUE, STORE_ID, RETAIL_DISC, TRANS_TIME, WEEK_NO, COUPON_DISC, COUPON_MATCH_DISC, PRODUCT_SHELF_PRICE]\n",
       "Index: []"
      ]
     },
     "execution_count": 307,
     "metadata": {},
     "output_type": "execute_result"
    }
   ],
   "source": [
    "df_trnsct[(df_trnsct[\"SALES_VALUE\"] - (df_trnsct[\"COUPON_MATCH_DISC\"] + df_trnsct[\"RETAIL_DISC\"])) / df_trnsct[\"QUANTITY\"]==df_product[\"PRODUCT_SHELF_PRICE\"].min()]"
   ]
  },
  {
   "cell_type": "code",
   "execution_count": 308,
   "metadata": {},
   "outputs": [
    {
     "data": {
      "text/html": [
       "<div>\n",
       "<style scoped>\n",
       "    .dataframe tbody tr th:only-of-type {\n",
       "        vertical-align: middle;\n",
       "    }\n",
       "\n",
       "    .dataframe tbody tr th {\n",
       "        vertical-align: top;\n",
       "    }\n",
       "\n",
       "    .dataframe thead th {\n",
       "        text-align: right;\n",
       "    }\n",
       "</style>\n",
       "<table border=\"1\" class=\"dataframe\">\n",
       "  <thead>\n",
       "    <tr style=\"text-align: right;\">\n",
       "      <th></th>\n",
       "      <th>PRODUCT_ID</th>\n",
       "      <th>MANUFACTURER</th>\n",
       "      <th>DEPARTMENT</th>\n",
       "      <th>BRAND</th>\n",
       "      <th>COMMODITY_DESC</th>\n",
       "      <th>SUB_COMMODITY_DESC</th>\n",
       "      <th>CURR_SIZE_OF_PRODUCT</th>\n",
       "      <th>PRODUCT_SHELF_PRICE</th>\n",
       "    </tr>\n",
       "  </thead>\n",
       "  <tbody>\n",
       "    <tr>\n",
       "      <th>142</th>\n",
       "      <td>30937</td>\n",
       "      <td>693</td>\n",
       "      <td>DRUG GM</td>\n",
       "      <td>National</td>\n",
       "      <td>CANDY - PACKAGED</td>\n",
       "      <td>CANDY BARS (MULTI PACK)</td>\n",
       "      <td>6 PK</td>\n",
       "      <td>NaN</td>\n",
       "    </tr>\n",
       "    <tr>\n",
       "      <th>937</th>\n",
       "      <td>56663</td>\n",
       "      <td>69</td>\n",
       "      <td>GROCERY</td>\n",
       "      <td>Private</td>\n",
       "      <td>FRZN POTATOES</td>\n",
       "      <td>FRZN FRENCH FRIES</td>\n",
       "      <td>32 OZ</td>\n",
       "      <td>NaN</td>\n",
       "    </tr>\n",
       "    <tr>\n",
       "      <th>2592</th>\n",
       "      <td>142713</td>\n",
       "      <td>2224</td>\n",
       "      <td>GROCERY</td>\n",
       "      <td>National</td>\n",
       "      <td>SOFT DRINKS</td>\n",
       "      <td>SFT DRNK MLT-PK BTL CARB (EXCP</td>\n",
       "      <td>.5 LTR</td>\n",
       "      <td>NaN</td>\n",
       "    </tr>\n",
       "    <tr>\n",
       "      <th>3667</th>\n",
       "      <td>410388</td>\n",
       "      <td>5744</td>\n",
       "      <td>NUTRITION</td>\n",
       "      <td>National</td>\n",
       "      <td>REFRIGERATED</td>\n",
       "      <td>JUICE (UNDER 10% JUICE)</td>\n",
       "      <td>20 OZ</td>\n",
       "      <td>NaN</td>\n",
       "    </tr>\n",
       "    <tr>\n",
       "      <th>3761</th>\n",
       "      <td>424426</td>\n",
       "      <td>69</td>\n",
       "      <td>NUTRITION</td>\n",
       "      <td>Private</td>\n",
       "      <td>WATER</td>\n",
       "      <td>SPRING WATER</td>\n",
       "      <td>16.9 OZ</td>\n",
       "      <td>NaN</td>\n",
       "    </tr>\n",
       "    <tr>\n",
       "      <th>...</th>\n",
       "      <td>...</td>\n",
       "      <td>...</td>\n",
       "      <td>...</td>\n",
       "      <td>...</td>\n",
       "      <td>...</td>\n",
       "      <td>...</td>\n",
       "      <td>...</td>\n",
       "      <td>...</td>\n",
       "    </tr>\n",
       "    <tr>\n",
       "      <th>91678</th>\n",
       "      <td>17330497</td>\n",
       "      <td>5143</td>\n",
       "      <td>DRUG GM</td>\n",
       "      <td>National</td>\n",
       "      <td>GREETING CARDS/WRAP/PARTY SPLY</td>\n",
       "      <td>GIFT-WRAP SEASONAL</td>\n",
       "      <td></td>\n",
       "      <td>NaN</td>\n",
       "    </tr>\n",
       "    <tr>\n",
       "      <th>91684</th>\n",
       "      <td>17381856</td>\n",
       "      <td>895</td>\n",
       "      <td>MISC. TRANS.</td>\n",
       "      <td>Private</td>\n",
       "      <td>NO COMMODITY DESCRIPTION</td>\n",
       "      <td>NO SUBCOMMODITY DESCRIPTION</td>\n",
       "      <td></td>\n",
       "      <td>NaN</td>\n",
       "    </tr>\n",
       "    <tr>\n",
       "      <th>91991</th>\n",
       "      <td>17972900</td>\n",
       "      <td>2722</td>\n",
       "      <td>FLORAL</td>\n",
       "      <td>National</td>\n",
       "      <td>FLORAL- HARD GOODS</td>\n",
       "      <td>SEASONAL</td>\n",
       "      <td>12 INCH</td>\n",
       "      <td>NaN</td>\n",
       "    </tr>\n",
       "    <tr>\n",
       "      <th>92039</th>\n",
       "      <td>17974595</td>\n",
       "      <td>119</td>\n",
       "      <td>DRUG GM</td>\n",
       "      <td>National</td>\n",
       "      <td>AUDIO/VIDEO PRODUCTS</td>\n",
       "      <td>AGE RESTRICTED DVD S</td>\n",
       "      <td></td>\n",
       "      <td>NaN</td>\n",
       "    </tr>\n",
       "    <tr>\n",
       "      <th>92163</th>\n",
       "      <td>18057119</td>\n",
       "      <td>5952</td>\n",
       "      <td>DRUG GM</td>\n",
       "      <td>National</td>\n",
       "      <td>DOMESTIC GOODS</td>\n",
       "      <td>THROWS</td>\n",
       "      <td></td>\n",
       "      <td>NaN</td>\n",
       "    </tr>\n",
       "  </tbody>\n",
       "</table>\n",
       "<p>448 rows × 8 columns</p>\n",
       "</div>"
      ],
      "text/plain": [
       "       PRODUCT_ID  MANUFACTURER    DEPARTMENT     BRAND  \\\n",
       "142         30937           693       DRUG GM  National   \n",
       "937         56663            69       GROCERY   Private   \n",
       "2592       142713          2224       GROCERY  National   \n",
       "3667       410388          5744     NUTRITION  National   \n",
       "3761       424426            69     NUTRITION   Private   \n",
       "...           ...           ...           ...       ...   \n",
       "91678    17330497          5143       DRUG GM  National   \n",
       "91684    17381856           895  MISC. TRANS.   Private   \n",
       "91991    17972900          2722        FLORAL  National   \n",
       "92039    17974595           119       DRUG GM  National   \n",
       "92163    18057119          5952       DRUG GM  National   \n",
       "\n",
       "                       COMMODITY_DESC              SUB_COMMODITY_DESC  \\\n",
       "142                  CANDY - PACKAGED         CANDY BARS (MULTI PACK)   \n",
       "937                     FRZN POTATOES               FRZN FRENCH FRIES   \n",
       "2592                      SOFT DRINKS  SFT DRNK MLT-PK BTL CARB (EXCP   \n",
       "3667                     REFRIGERATED         JUICE (UNDER 10% JUICE)   \n",
       "3761                            WATER                    SPRING WATER   \n",
       "...                               ...                             ...   \n",
       "91678  GREETING CARDS/WRAP/PARTY SPLY              GIFT-WRAP SEASONAL   \n",
       "91684        NO COMMODITY DESCRIPTION     NO SUBCOMMODITY DESCRIPTION   \n",
       "91991              FLORAL- HARD GOODS                        SEASONAL   \n",
       "92039            AUDIO/VIDEO PRODUCTS            AGE RESTRICTED DVD S   \n",
       "92163                  DOMESTIC GOODS                          THROWS   \n",
       "\n",
       "      CURR_SIZE_OF_PRODUCT  PRODUCT_SHELF_PRICE  \n",
       "142                   6 PK                  NaN  \n",
       "937                  32 OZ                  NaN  \n",
       "2592                .5 LTR                  NaN  \n",
       "3667                 20 OZ                  NaN  \n",
       "3761               16.9 OZ                  NaN  \n",
       "...                    ...                  ...  \n",
       "91678                                       NaN  \n",
       "91684                                       NaN  \n",
       "91991              12 INCH                  NaN  \n",
       "92039                                       NaN  \n",
       "92163                                       NaN  \n",
       "\n",
       "[448 rows x 8 columns]"
      ]
     },
     "execution_count": 308,
     "metadata": {},
     "output_type": "execute_result"
    }
   ],
   "source": [
    "df_product[df_product[\"PRODUCT_SHELF_PRICE\"].isna()]\n",
    "#These products have not been sold"
   ]
  },
  {
   "cell_type": "code",
   "execution_count": 309,
   "metadata": {},
   "outputs": [
    {
     "data": {
      "text/plain": [
       "INCOME_DESC\n",
       "50-74K       192\n",
       "35-49K       172\n",
       "75-99K        96\n",
       "25-34K        77\n",
       "15-24K        74\n",
       "Under 15K     61\n",
       "125-149K      38\n",
       "100-124K      34\n",
       "150-174K      30\n",
       "250K+         11\n",
       "175-199K      11\n",
       "200-249K       5\n",
       "Name: count, dtype: int64"
      ]
     },
     "execution_count": 309,
     "metadata": {},
     "output_type": "execute_result"
    }
   ],
   "source": [
    "#display the distirbution of AGE_DESC\n",
    "df_demographic[\"INCOME_DESC\"].value_counts()"
   ]
  },
  {
   "cell_type": "code",
   "execution_count": 310,
   "metadata": {},
   "outputs": [
    {
     "data": {
      "text/plain": [
       "INCOME_DESC_REDUCED\n",
       "50-99K      288\n",
       "25-49K      249\n",
       "<25K        135\n",
       "100-149K     72\n",
       "150K+        57\n",
       "Name: count, dtype: int64"
      ]
     },
     "execution_count": 310,
     "metadata": {},
     "output_type": "execute_result"
    }
   ],
   "source": [
    "#Set a new category to reduce the number of age category\n",
    "new_income_list = {\n",
    "    \"<25K\": [\"Under 15K\", \"15-24K\"],\n",
    "    \"25-49K\": [\"25-34K\", \"35-49K\"],\n",
    "    \"50-99K\": [\"50-74K\", \"75-99K\"],\n",
    "    \"100-149K\": [\"100-124K\", \"125-149K\"],\n",
    "    \"150K+\": [\"150-174K\", \"175-199K\", \"200-249K\", \"250K+\"],\n",
    "}\n",
    "df_demographic[\"INCOME_DESC_REDUCED\"] = np.select(\n",
    "    [df_demographic[\"INCOME_DESC\"].isin(v) for v in new_income_list.values()],\n",
    "    list(new_income_list.keys()),\n",
    ")\n",
    "#display the distribution of INCOME_DESC_REDUCED data\n",
    "df_demographic[\"INCOME_DESC_REDUCED\"].value_counts()"
   ]
  },
  {
   "cell_type": "code",
   "execution_count": 311,
   "metadata": {},
   "outputs": [
    {
     "data": {
      "text/plain": [
       "AGE_DESC\n",
       "45-54    288\n",
       "35-44    194\n",
       "25-34    142\n",
       "65+       72\n",
       "55-64     59\n",
       "19-24     46\n",
       "Name: count, dtype: int64"
      ]
     },
     "execution_count": 311,
     "metadata": {},
     "output_type": "execute_result"
    }
   ],
   "source": [
    "#display the distirbution of AGE_DESC\n",
    "df_demographic[\"AGE_DESC\"].value_counts()"
   ]
  },
  {
   "cell_type": "code",
   "execution_count": 312,
   "metadata": {},
   "outputs": [
    {
     "data": {
      "text/plain": [
       "HH_COMP_DESC\n",
       "1 Adult No Kids     300\n",
       "2 Adults No Kids    258\n",
       "2 Adults Kids       195\n",
       "1 Adult Kids         48\n",
       "Name: count, dtype: int64"
      ]
     },
     "execution_count": 312,
     "metadata": {},
     "output_type": "execute_result"
    }
   ],
   "source": [
    "# function us to remplace values\n",
    "df_demographic[\"HH_COMP_DESC\"].replace(\"Single Female\", \"1 Adult No Kids\", inplace=True)\n",
    "df_demographic[\"HH_COMP_DESC\"].replace(\"Single Male\", \"1 Adult No Kids\", inplace=True)\n",
    "#display the distribution of HH_COMP_DESC data\n",
    "df_demographic[\"HH_COMP_DESC\"].value_counts()"
   ]
  },
  {
   "cell_type": "code",
   "execution_count": 313,
   "metadata": {},
   "outputs": [
    {
     "data": {
      "text/plain": [
       "HOMEOWNER_DESC\n",
       "Homeowner    748\n",
       "Renter        53\n",
       "Name: count, dtype: int64"
      ]
     },
     "execution_count": 313,
     "metadata": {},
     "output_type": "execute_result"
    }
   ],
   "source": [
    "df_demographic[\"HOMEOWNER_DESC\"].replace(\"Probable Renter\",\"Renter\",inplace=True)\n",
    "df_demographic[\"HOMEOWNER_DESC\"].replace(\"Probable Owner\",\"Homeowner\",inplace=True)\n",
    "#display the distirbution of HOMEOWNER_DESC\n",
    "df_demographic[\"HOMEOWNER_DESC\"].value_counts()"
   ]
  },
  {
   "cell_type": "code",
   "execution_count": 314,
   "metadata": {},
   "outputs": [
    {
     "data": {
      "text/plain": [
       "0         2012-01-02\n",
       "1         2012-01-02\n",
       "2         2012-01-02\n",
       "3         2012-01-02\n",
       "4         2012-01-02\n",
       "             ...    \n",
       "2595727   2013-12-12\n",
       "2595728   2013-12-12\n",
       "2595729   2013-12-12\n",
       "2595730   2013-12-12\n",
       "2595731   2013-12-12\n",
       "Name: TRANS_DATE, Length: 2576815, dtype: datetime64[ns]"
      ]
     },
     "execution_count": 314,
     "metadata": {},
     "output_type": "execute_result"
    }
   ],
   "source": [
    "# Define the reference start date\n",
    "reference_date = pd.Timestamp(\"01-01-12\")\n",
    "\n",
    "# Add days to the reference date to calculate the actual date\n",
    "df_trnsct[\"TRANS_DATE\"] = reference_date + pd.to_timedelta(df_trnsct[\"DAY\"], unit=\"D\")\n",
    "df_trnsct.drop(columns=[\"DAY\"], inplace=True)\n",
    "\n",
    "df_trnsct[\"TRANS_DATE\"]"
   ]
  },
  {
   "cell_type": "code",
   "execution_count": 315,
   "metadata": {},
   "outputs": [
    {
     "data": {
      "text/html": [
       "<div>\n",
       "<style scoped>\n",
       "    .dataframe tbody tr th:only-of-type {\n",
       "        vertical-align: middle;\n",
       "    }\n",
       "\n",
       "    .dataframe tbody tr th {\n",
       "        vertical-align: top;\n",
       "    }\n",
       "\n",
       "    .dataframe thead th {\n",
       "        text-align: right;\n",
       "    }\n",
       "</style>\n",
       "<table border=\"1\" class=\"dataframe\">\n",
       "  <thead>\n",
       "    <tr style=\"text-align: right;\">\n",
       "      <th></th>\n",
       "      <th>DESCRIPTION</th>\n",
       "      <th>CAMPAIGN</th>\n",
       "      <th>START_MONTH</th>\n",
       "      <th>END_MONTH</th>\n",
       "    </tr>\n",
       "  </thead>\n",
       "  <tbody>\n",
       "    <tr>\n",
       "      <th>0</th>\n",
       "      <td>TypeB</td>\n",
       "      <td>24</td>\n",
       "      <td>23.535714</td>\n",
       "      <td>25.678571</td>\n",
       "    </tr>\n",
       "    <tr>\n",
       "      <th>1</th>\n",
       "      <td>TypeC</td>\n",
       "      <td>15</td>\n",
       "      <td>19.535714</td>\n",
       "      <td>25.285714</td>\n",
       "    </tr>\n",
       "    <tr>\n",
       "      <th>2</th>\n",
       "      <td>TypeB</td>\n",
       "      <td>25</td>\n",
       "      <td>23.535714</td>\n",
       "      <td>24.678571</td>\n",
       "    </tr>\n",
       "  </tbody>\n",
       "</table>\n",
       "</div>"
      ],
      "text/plain": [
       "  DESCRIPTION  CAMPAIGN  START_MONTH  END_MONTH\n",
       "0       TypeB        24    23.535714  25.678571\n",
       "1       TypeC        15    19.535714  25.285714\n",
       "2       TypeB        25    23.535714  24.678571"
      ]
     },
     "execution_count": 315,
     "metadata": {},
     "output_type": "execute_result"
    }
   ],
   "source": [
    "df_campaign[\"START_MONTH\"] = abs(df_campaign[\"START_DAY\"] / 28)\n",
    "df_campaign[\"END_MONTH\"] = abs(df_campaign[\"END_DAY\"] / 28)\n",
    "df_campaign.drop(columns=[\"START_DAY\", \"END_DAY\"], inplace=True)\n",
    "df_campaign.head(3)"
   ]
  },
  {
   "cell_type": "markdown",
   "metadata": {},
   "source": [
    "---"
   ]
  },
  {
   "cell_type": "markdown",
   "metadata": {},
   "source": [
    "# New Variables Creation"
   ]
  },
  {
   "cell_type": "markdown",
   "metadata": {},
   "source": [
    "In this section we will create new variables/metrics for a better data analysis"
   ]
  },
  {
   "cell_type": "markdown",
   "metadata": {},
   "source": [
    "### Number Of Products Per Transaction"
   ]
  },
  {
   "cell_type": "markdown",
   "metadata": {},
   "source": [
    "We create a new series with the Number of Products Sold Per Transaction Per Store"
   ]
  },
  {
   "cell_type": "code",
   "execution_count": 316,
   "metadata": {},
   "outputs": [
    {
     "data": {
      "text/html": [
       "<div>\n",
       "<style scoped>\n",
       "    .dataframe tbody tr th:only-of-type {\n",
       "        vertical-align: middle;\n",
       "    }\n",
       "\n",
       "    .dataframe tbody tr th {\n",
       "        vertical-align: top;\n",
       "    }\n",
       "\n",
       "    .dataframe thead th {\n",
       "        text-align: right;\n",
       "    }\n",
       "</style>\n",
       "<table border=\"1\" class=\"dataframe\">\n",
       "  <thead>\n",
       "    <tr style=\"text-align: right;\">\n",
       "      <th></th>\n",
       "      <th>NB_PROD_SOLD/TRNSCT</th>\n",
       "    </tr>\n",
       "    <tr>\n",
       "      <th>STORE_ID</th>\n",
       "      <th></th>\n",
       "    </tr>\n",
       "  </thead>\n",
       "  <tbody>\n",
       "    <tr>\n",
       "      <th>569</th>\n",
       "      <td>62.0</td>\n",
       "    </tr>\n",
       "    <tr>\n",
       "      <th>278</th>\n",
       "      <td>47.0</td>\n",
       "    </tr>\n",
       "    <tr>\n",
       "      <th>3525</th>\n",
       "      <td>46.0</td>\n",
       "    </tr>\n",
       "    <tr>\n",
       "      <th>3483</th>\n",
       "      <td>39.0</td>\n",
       "    </tr>\n",
       "    <tr>\n",
       "      <th>3256</th>\n",
       "      <td>34.0</td>\n",
       "    </tr>\n",
       "    <tr>\n",
       "      <th>...</th>\n",
       "      <td>...</td>\n",
       "    </tr>\n",
       "    <tr>\n",
       "      <th>2996</th>\n",
       "      <td>1.0</td>\n",
       "    </tr>\n",
       "    <tr>\n",
       "      <th>584</th>\n",
       "      <td>1.0</td>\n",
       "    </tr>\n",
       "    <tr>\n",
       "      <th>580</th>\n",
       "      <td>1.0</td>\n",
       "    </tr>\n",
       "    <tr>\n",
       "      <th>3006</th>\n",
       "      <td>1.0</td>\n",
       "    </tr>\n",
       "    <tr>\n",
       "      <th>1</th>\n",
       "      <td>1.0</td>\n",
       "    </tr>\n",
       "  </tbody>\n",
       "</table>\n",
       "<p>581 rows × 1 columns</p>\n",
       "</div>"
      ],
      "text/plain": [
       "          NB_PROD_SOLD/TRNSCT\n",
       "STORE_ID                     \n",
       "569                      62.0\n",
       "278                      47.0\n",
       "3525                     46.0\n",
       "3483                     39.0\n",
       "3256                     34.0\n",
       "...                       ...\n",
       "2996                      1.0\n",
       "584                       1.0\n",
       "580                       1.0\n",
       "3006                      1.0\n",
       "1                         1.0\n",
       "\n",
       "[581 rows x 1 columns]"
      ]
     },
     "execution_count": 316,
     "metadata": {},
     "output_type": "execute_result"
    }
   ],
   "source": [
    "df_trnsct.groupby(\"BASKET_ID\").aggregate(\n",
    "    {\"PRODUCT_ID\": \"count\", \"STORE_ID\": \"first\"}\n",
    ").rename({\"PRODUCT_ID\": \"NB_PROD_SOLD/TRNSCT\"}, axis=1).set_index(\"STORE_ID\").groupby(\n",
    "    \"STORE_ID\"\n",
    ").mean().round().sort_values(\n",
    "    \"NB_PROD_SOLD/TRNSCT\", ascending=False\n",
    ")"
   ]
  },
  {
   "cell_type": "markdown",
   "metadata": {},
   "source": [
    "### Create New variable: Date of first purchase to track customer acquisition"
   ]
  },
  {
   "cell_type": "code",
   "execution_count": 317,
   "metadata": {},
   "outputs": [
    {
     "name": "stdout",
     "output_type": "stream",
     "text": [
      "<class 'pandas.core.frame.DataFrame'>\n",
      "Index: 2576815 entries, 0 to 2595731\n",
      "Data columns (total 13 columns):\n",
      " #   Column               Dtype         \n",
      "---  ------               -----         \n",
      " 0   household_key        int64         \n",
      " 1   BASKET_ID            int64         \n",
      " 2   PRODUCT_ID           int64         \n",
      " 3   QUANTITY             int64         \n",
      " 4   SALES_VALUE          float64       \n",
      " 5   STORE_ID             int64         \n",
      " 6   RETAIL_DISC          float64       \n",
      " 7   TRANS_TIME           int64         \n",
      " 8   WEEK_NO              int64         \n",
      " 9   COUPON_DISC          float64       \n",
      " 10  COUPON_MATCH_DISC    float64       \n",
      " 11  PRODUCT_SHELF_PRICE  float64       \n",
      " 12  TRANS_DATE           datetime64[ns]\n",
      "dtypes: datetime64[ns](1), float64(5), int64(7)\n",
      "memory usage: 275.2 MB\n"
     ]
    }
   ],
   "source": [
    "df_trnsct.info()"
   ]
  },
  {
   "cell_type": "code",
   "execution_count": 318,
   "metadata": {},
   "outputs": [
    {
     "data": {
      "text/html": [
       "<div>\n",
       "<style scoped>\n",
       "    .dataframe tbody tr th:only-of-type {\n",
       "        vertical-align: middle;\n",
       "    }\n",
       "\n",
       "    .dataframe tbody tr th {\n",
       "        vertical-align: top;\n",
       "    }\n",
       "\n",
       "    .dataframe thead th {\n",
       "        text-align: right;\n",
       "    }\n",
       "</style>\n",
       "<table border=\"1\" class=\"dataframe\">\n",
       "  <thead>\n",
       "    <tr style=\"text-align: right;\">\n",
       "      <th></th>\n",
       "      <th>TRANS_DATE</th>\n",
       "    </tr>\n",
       "    <tr>\n",
       "      <th>household_key</th>\n",
       "      <th></th>\n",
       "    </tr>\n",
       "  </thead>\n",
       "  <tbody>\n",
       "    <tr>\n",
       "      <th>1</th>\n",
       "      <td>2012-02-21</td>\n",
       "    </tr>\n",
       "    <tr>\n",
       "      <th>2</th>\n",
       "      <td>2012-04-13</td>\n",
       "    </tr>\n",
       "    <tr>\n",
       "      <th>3</th>\n",
       "      <td>2012-04-23</td>\n",
       "    </tr>\n",
       "    <tr>\n",
       "      <th>4</th>\n",
       "      <td>2012-04-14</td>\n",
       "    </tr>\n",
       "    <tr>\n",
       "      <th>5</th>\n",
       "      <td>2012-03-26</td>\n",
       "    </tr>\n",
       "    <tr>\n",
       "      <th>...</th>\n",
       "      <td>...</td>\n",
       "    </tr>\n",
       "    <tr>\n",
       "      <th>2496</th>\n",
       "      <td>2012-04-27</td>\n",
       "    </tr>\n",
       "    <tr>\n",
       "      <th>2497</th>\n",
       "      <td>2012-03-19</td>\n",
       "    </tr>\n",
       "    <tr>\n",
       "      <th>2498</th>\n",
       "      <td>2012-04-15</td>\n",
       "    </tr>\n",
       "    <tr>\n",
       "      <th>2499</th>\n",
       "      <td>2012-03-11</td>\n",
       "    </tr>\n",
       "    <tr>\n",
       "      <th>2500</th>\n",
       "      <td>2012-03-20</td>\n",
       "    </tr>\n",
       "  </tbody>\n",
       "</table>\n",
       "<p>2500 rows × 1 columns</p>\n",
       "</div>"
      ],
      "text/plain": [
       "              TRANS_DATE\n",
       "household_key           \n",
       "1             2012-02-21\n",
       "2             2012-04-13\n",
       "3             2012-04-23\n",
       "4             2012-04-14\n",
       "5             2012-03-26\n",
       "...                  ...\n",
       "2496          2012-04-27\n",
       "2497          2012-03-19\n",
       "2498          2012-04-15\n",
       "2499          2012-03-11\n",
       "2500          2012-03-20\n",
       "\n",
       "[2500 rows x 1 columns]"
      ]
     },
     "execution_count": 318,
     "metadata": {},
     "output_type": "execute_result"
    }
   ],
   "source": [
    "# Group by 'household_key' and 'TRANS_DATE', then count occurrences\n",
    "customer_first_date = (\n",
    "    df_trnsct[[\"household_key\", \"TRANS_DATE\"]]\n",
    "    .groupby([\"household_key\", \"TRANS_DATE\"])\n",
    "    .value_counts()\n",
    ")\n",
    "\n",
    "# Reset index and drop the 'count' column created by value_counts()\n",
    "customer_first_date = customer_first_date.reset_index()\n",
    "customer_first_date.drop(columns=[\"count\"], inplace=True)\n",
    "\n",
    "# Find the minimum transaction date for each household\n",
    "customer_first_date = customer_first_date.groupby(\"household_key\").min()\n",
    "\n",
    "# Rename columns for clarity\n",
    "customer_first_date = customer_first_date.rename(\n",
    "    columns={\"DAY\": \"Day_of_first_purchase\", \"index\": \"household_key\"}\n",
    ")\n",
    "\n",
    "# Output the resulting DataFrame with first purchase dates per household\n",
    "customer_first_date"
   ]
  },
  {
   "cell_type": "code",
   "execution_count": 319,
   "metadata": {},
   "outputs": [
    {
     "data": {
      "text/html": [
       "<div>\n",
       "<style scoped>\n",
       "    .dataframe tbody tr th:only-of-type {\n",
       "        vertical-align: middle;\n",
       "    }\n",
       "\n",
       "    .dataframe tbody tr th {\n",
       "        vertical-align: top;\n",
       "    }\n",
       "\n",
       "    .dataframe thead th {\n",
       "        text-align: right;\n",
       "    }\n",
       "</style>\n",
       "<table border=\"1\" class=\"dataframe\">\n",
       "  <thead>\n",
       "    <tr style=\"text-align: right;\">\n",
       "      <th></th>\n",
       "      <th>Day_of_first_purchase</th>\n",
       "    </tr>\n",
       "    <tr>\n",
       "      <th>household_key</th>\n",
       "      <th></th>\n",
       "    </tr>\n",
       "  </thead>\n",
       "  <tbody>\n",
       "    <tr>\n",
       "      <th>1</th>\n",
       "      <td>2012-02-21</td>\n",
       "    </tr>\n",
       "    <tr>\n",
       "      <th>2</th>\n",
       "      <td>2012-04-13</td>\n",
       "    </tr>\n",
       "    <tr>\n",
       "      <th>3</th>\n",
       "      <td>2012-04-23</td>\n",
       "    </tr>\n",
       "    <tr>\n",
       "      <th>4</th>\n",
       "      <td>2012-04-14</td>\n",
       "    </tr>\n",
       "    <tr>\n",
       "      <th>5</th>\n",
       "      <td>2012-03-26</td>\n",
       "    </tr>\n",
       "    <tr>\n",
       "      <th>...</th>\n",
       "      <td>...</td>\n",
       "    </tr>\n",
       "    <tr>\n",
       "      <th>2496</th>\n",
       "      <td>2012-04-27</td>\n",
       "    </tr>\n",
       "    <tr>\n",
       "      <th>2497</th>\n",
       "      <td>2012-03-19</td>\n",
       "    </tr>\n",
       "    <tr>\n",
       "      <th>2498</th>\n",
       "      <td>2012-04-15</td>\n",
       "    </tr>\n",
       "    <tr>\n",
       "      <th>2499</th>\n",
       "      <td>2012-03-11</td>\n",
       "    </tr>\n",
       "    <tr>\n",
       "      <th>2500</th>\n",
       "      <td>2012-03-20</td>\n",
       "    </tr>\n",
       "  </tbody>\n",
       "</table>\n",
       "<p>2500 rows × 1 columns</p>\n",
       "</div>"
      ],
      "text/plain": [
       "              Day_of_first_purchase\n",
       "household_key                      \n",
       "1                        2012-02-21\n",
       "2                        2012-04-13\n",
       "3                        2012-04-23\n",
       "4                        2012-04-14\n",
       "5                        2012-03-26\n",
       "...                             ...\n",
       "2496                     2012-04-27\n",
       "2497                     2012-03-19\n",
       "2498                     2012-04-15\n",
       "2499                     2012-03-11\n",
       "2500                     2012-03-20\n",
       "\n",
       "[2500 rows x 1 columns]"
      ]
     },
     "execution_count": 319,
     "metadata": {},
     "output_type": "execute_result"
    }
   ],
   "source": [
    "# Group by 'household_key' and 'TRANS_DATE', then count occurrences\n",
    "customer_first_date = (\n",
    "    df_trnsct[[\"household_key\", \"TRANS_DATE\"]]\n",
    "    .groupby([\"household_key\", \"TRANS_DATE\"])\n",
    "    .value_counts()\n",
    ")\n",
    "\n",
    "# Reset index to flatten the multi-index, drop the 'count' column created by value_counts()\n",
    "customer_first_date = customer_first_date.reset_index()\n",
    "customer_first_date.drop(columns=[\"count\"], inplace=True)\n",
    "\n",
    "# Find the minimum transaction date for each household by grouping only by 'household_key'\n",
    "customer_first_date = customer_first_date.groupby(\"household_key\").min()\n",
    "\n",
    "# Rename columns for clarity and consistency\n",
    "customer_first_date = customer_first_date.rename(\n",
    "    columns={\"TRANS_DATE\": \"Day_of_first_purchase\", \"household_key\": \"Household_key\"}\n",
    ")\n",
    "\n",
    "# Output the resulting DataFrame with the first purchase date for each household\n",
    "customer_first_date"
   ]
  },
  {
   "cell_type": "code",
   "execution_count": 320,
   "metadata": {},
   "outputs": [
    {
     "data": {
      "text/html": [
       "<div>\n",
       "<style scoped>\n",
       "    .dataframe tbody tr th:only-of-type {\n",
       "        vertical-align: middle;\n",
       "    }\n",
       "\n",
       "    .dataframe tbody tr th {\n",
       "        vertical-align: top;\n",
       "    }\n",
       "\n",
       "    .dataframe thead th {\n",
       "        text-align: right;\n",
       "    }\n",
       "</style>\n",
       "<table border=\"1\" class=\"dataframe\">\n",
       "  <thead>\n",
       "    <tr style=\"text-align: right;\">\n",
       "      <th></th>\n",
       "      <th>Date_of_first_purchase</th>\n",
       "      <th>Number_of_households</th>\n",
       "    </tr>\n",
       "  </thead>\n",
       "  <tbody>\n",
       "    <tr>\n",
       "      <th>105</th>\n",
       "      <td>2012-01-02</td>\n",
       "      <td>13</td>\n",
       "    </tr>\n",
       "    <tr>\n",
       "      <th>115</th>\n",
       "      <td>2012-01-03</td>\n",
       "      <td>10</td>\n",
       "    </tr>\n",
       "    <tr>\n",
       "      <th>15</th>\n",
       "      <td>2012-01-04</td>\n",
       "      <td>27</td>\n",
       "    </tr>\n",
       "    <tr>\n",
       "      <th>46</th>\n",
       "      <td>2012-01-05</td>\n",
       "      <td>23</td>\n",
       "    </tr>\n",
       "    <tr>\n",
       "      <th>103</th>\n",
       "      <td>2012-01-06</td>\n",
       "      <td>14</td>\n",
       "    </tr>\n",
       "    <tr>\n",
       "      <th>...</th>\n",
       "      <td>...</td>\n",
       "      <td>...</td>\n",
       "    </tr>\n",
       "    <tr>\n",
       "      <th>123</th>\n",
       "      <td>2012-09-18</td>\n",
       "      <td>1</td>\n",
       "    </tr>\n",
       "    <tr>\n",
       "      <th>122</th>\n",
       "      <td>2012-10-04</td>\n",
       "      <td>1</td>\n",
       "    </tr>\n",
       "    <tr>\n",
       "      <th>121</th>\n",
       "      <td>2013-03-09</td>\n",
       "      <td>1</td>\n",
       "    </tr>\n",
       "    <tr>\n",
       "      <th>120</th>\n",
       "      <td>2013-09-05</td>\n",
       "      <td>1</td>\n",
       "    </tr>\n",
       "    <tr>\n",
       "      <th>134</th>\n",
       "      <td>2013-11-02</td>\n",
       "      <td>1</td>\n",
       "    </tr>\n",
       "  </tbody>\n",
       "</table>\n",
       "<p>135 rows × 2 columns</p>\n",
       "</div>"
      ],
      "text/plain": [
       "    Date_of_first_purchase  Number_of_households\n",
       "105             2012-01-02                    13\n",
       "115             2012-01-03                    10\n",
       "15              2012-01-04                    27\n",
       "46              2012-01-05                    23\n",
       "103             2012-01-06                    14\n",
       "..                     ...                   ...\n",
       "123             2012-09-18                     1\n",
       "122             2012-10-04                     1\n",
       "121             2013-03-09                     1\n",
       "120             2013-09-05                     1\n",
       "134             2013-11-02                     1\n",
       "\n",
       "[135 rows x 2 columns]"
      ]
     },
     "execution_count": 320,
     "metadata": {},
     "output_type": "execute_result"
    }
   ],
   "source": [
    "df_customer_acquisition = (\n",
    "    customer_first_date.value_counts()\n",
    "    .reset_index()\n",
    "    .rename(columns={\"Day_of_first_purchase\": \"Date_of_first_purchase\", \"count\": \"Number_of_households\"})\n",
    "    .sort_values(\"Date_of_first_purchase\")\n",
    ")\n",
    "df_customer_acquisition"
   ]
  },
  {
   "cell_type": "code",
   "execution_count": 321,
   "metadata": {},
   "outputs": [
    {
     "data": {
      "text/html": [
       "<div>\n",
       "<style scoped>\n",
       "    .dataframe tbody tr th:only-of-type {\n",
       "        vertical-align: middle;\n",
       "    }\n",
       "\n",
       "    .dataframe tbody tr th {\n",
       "        vertical-align: top;\n",
       "    }\n",
       "\n",
       "    .dataframe thead th {\n",
       "        text-align: right;\n",
       "    }\n",
       "</style>\n",
       "<table border=\"1\" class=\"dataframe\">\n",
       "  <thead>\n",
       "    <tr style=\"text-align: right;\">\n",
       "      <th></th>\n",
       "      <th>Date_of_first_purchase</th>\n",
       "      <th>Number_of_households</th>\n",
       "    </tr>\n",
       "  </thead>\n",
       "  <tbody>\n",
       "    <tr>\n",
       "      <th>0</th>\n",
       "      <td>2013-12-12</td>\n",
       "      <td>0.0</td>\n",
       "    </tr>\n",
       "  </tbody>\n",
       "</table>\n",
       "</div>"
      ],
      "text/plain": [
       "  Date_of_first_purchase  Number_of_households\n",
       "0             2013-12-12                   0.0"
      ]
     },
     "execution_count": 321,
     "metadata": {},
     "output_type": "execute_result"
    }
   ],
   "source": [
    "df_customer_acquisition.set_index(\"Date_of_first_purchase\").reindex(pd.date_range(df_trnsct[\"TRANS_DATE\"].max(), df_trnsct[\"TRANS_DATE\"].max(), freq=\"D\")).fillna(0).reset_index().rename(columns={\"index\": \"Date_of_first_purchase\"})"
   ]
  },
  {
   "cell_type": "markdown",
   "metadata": {},
   "source": [
    "## Chiffre d'affaire"
   ]
  },
  {
   "cell_type": "code",
   "execution_count": 322,
   "metadata": {},
   "outputs": [
    {
     "data": {
      "text/html": [
       "<div>\n",
       "<style scoped>\n",
       "    .dataframe tbody tr th:only-of-type {\n",
       "        vertical-align: middle;\n",
       "    }\n",
       "\n",
       "    .dataframe tbody tr th {\n",
       "        vertical-align: top;\n",
       "    }\n",
       "\n",
       "    .dataframe thead th {\n",
       "        text-align: right;\n",
       "    }\n",
       "</style>\n",
       "<table border=\"1\" class=\"dataframe\">\n",
       "  <thead>\n",
       "    <tr style=\"text-align: right;\">\n",
       "      <th></th>\n",
       "      <th>TRANS_DATE</th>\n",
       "      <th>SALES_VALUE</th>\n",
       "    </tr>\n",
       "  </thead>\n",
       "  <tbody>\n",
       "    <tr>\n",
       "      <th>0</th>\n",
       "      <td>2012-01-02</td>\n",
       "      <td>549.31</td>\n",
       "    </tr>\n",
       "    <tr>\n",
       "      <th>1</th>\n",
       "      <td>2012-01-03</td>\n",
       "      <td>458.91</td>\n",
       "    </tr>\n",
       "    <tr>\n",
       "      <th>2</th>\n",
       "      <td>2012-01-04</td>\n",
       "      <td>1560.37</td>\n",
       "    </tr>\n",
       "    <tr>\n",
       "      <th>3</th>\n",
       "      <td>2012-01-05</td>\n",
       "      <td>1785.64</td>\n",
       "    </tr>\n",
       "    <tr>\n",
       "      <th>4</th>\n",
       "      <td>2012-01-06</td>\n",
       "      <td>856.93</td>\n",
       "    </tr>\n",
       "    <tr>\n",
       "      <th>...</th>\n",
       "      <td>...</td>\n",
       "      <td>...</td>\n",
       "    </tr>\n",
       "    <tr>\n",
       "      <th>706</th>\n",
       "      <td>2013-12-08</td>\n",
       "      <td>10632.36</td>\n",
       "    </tr>\n",
       "    <tr>\n",
       "      <th>707</th>\n",
       "      <td>2013-12-09</td>\n",
       "      <td>9949.90</td>\n",
       "    </tr>\n",
       "    <tr>\n",
       "      <th>708</th>\n",
       "      <td>2013-12-10</td>\n",
       "      <td>11245.74</td>\n",
       "    </tr>\n",
       "    <tr>\n",
       "      <th>709</th>\n",
       "      <td>2013-12-11</td>\n",
       "      <td>12758.04</td>\n",
       "    </tr>\n",
       "    <tr>\n",
       "      <th>710</th>\n",
       "      <td>2013-12-12</td>\n",
       "      <td>15938.70</td>\n",
       "    </tr>\n",
       "  </tbody>\n",
       "</table>\n",
       "<p>711 rows × 2 columns</p>\n",
       "</div>"
      ],
      "text/plain": [
       "    TRANS_DATE  SALES_VALUE\n",
       "0   2012-01-02       549.31\n",
       "1   2012-01-03       458.91\n",
       "2   2012-01-04      1560.37\n",
       "3   2012-01-05      1785.64\n",
       "4   2012-01-06       856.93\n",
       "..         ...          ...\n",
       "706 2013-12-08     10632.36\n",
       "707 2013-12-09      9949.90\n",
       "708 2013-12-10     11245.74\n",
       "709 2013-12-11     12758.04\n",
       "710 2013-12-12     15938.70\n",
       "\n",
       "[711 rows x 2 columns]"
      ]
     },
     "execution_count": 322,
     "metadata": {},
     "output_type": "execute_result"
    }
   ],
   "source": [
    "# Calculate daily sales by summing 'SALES_VALUE' grouped by 'TRANS_DATE'\n",
    "daily_sales = (\n",
    "    df_trnsct[[\"SALES_VALUE\"]]\n",
    "    .groupby(df_trnsct[\"TRANS_DATE\"])\n",
    "    .sum()\n",
    "    \n",
    "    # Reindex to fill missing dates and interpolate missing values\n",
    "    .reindex(\n",
    "        pd.date_range(\n",
    "            df_trnsct[\"TRANS_DATE\"].min(), df_trnsct[\"TRANS_DATE\"].max(), freq=\"D\"\n",
    "        )\n",
    "    )\n",
    "    .interpolate(method=\"time\")  # Interpolate missing values using time method\n",
    "    .reset_index()  # Reset index to flatten the DataFrame\n",
    "    .rename(columns={\"index\": \"TRANS_DATE\"})  # Rename index column for clarity\n",
    ")\n",
    "\n",
    "# Uncomment the following line if you want to format 'TRANS_DATE' as month-day format\n",
    "# daily_sales[\"TRANS_DATE\"] = daily_sales[\"TRANS_DATE\"].dt.strftime(\"%m-%d\")\n",
    "\n",
    "# Display the resulting DataFrame showing daily sales values\n",
    "daily_sales"
   ]
  },
  {
   "cell_type": "markdown",
   "metadata": {},
   "source": [
    "### Age & Income Mean demographic"
   ]
  },
  {
   "cell_type": "code",
   "execution_count": 323,
   "metadata": {},
   "outputs": [
    {
     "data": {
      "text/plain": [
       "MEAN_AGE\n",
       "49.5    288\n",
       "39.5    194\n",
       "29.5    142\n",
       "65.0     72\n",
       "59.5     59\n",
       "21.5     46\n",
       "Name: count, dtype: int64"
      ]
     },
     "execution_count": 323,
     "metadata": {},
     "output_type": "execute_result"
    }
   ],
   "source": [
    "df_demographic[\"MEAN_AGE\"]=df_demographic[\"AGE_DESC\"].replace(\"65+\",\"65\").str.extract(r'(\\d+)-(\\d+)|(\\d+)').astype(float).mean(axis=1)\n",
    "df_demographic[\"MEAN_AGE\"].value_counts()"
   ]
  },
  {
   "cell_type": "code",
   "execution_count": 324,
   "metadata": {},
   "outputs": [
    {
     "data": {
      "text/plain": [
       "MEAN_INCOME\n",
       "62.0     192\n",
       "42.0     172\n",
       "87.0      96\n",
       "29.5      77\n",
       "19.5      74\n",
       "15.0      61\n",
       "137.0     38\n",
       "112.0     34\n",
       "162.0     30\n",
       "250.0     11\n",
       "187.0     11\n",
       "224.5      5\n",
       "Name: count, dtype: int64"
      ]
     },
     "execution_count": 324,
     "metadata": {},
     "output_type": "execute_result"
    }
   ],
   "source": [
    "df_demographic[\"MEAN_INCOME\"]=df_demographic[\"INCOME_DESC\"].str.extract(r'(\\d+)-(\\d+)|(\\d+)').astype(float).mean(axis=1)\n",
    "df_demographic[\"MEAN_INCOME\"]\n",
    "df_demographic[\"MEAN_INCOME\"].value_counts()"
   ]
  },
  {
   "cell_type": "markdown",
   "metadata": {},
   "source": [
    "---"
   ]
  },
  {
   "cell_type": "markdown",
   "metadata": {},
   "source": [
    "## 2. Product Department Wordcloud"
   ]
  },
  {
   "cell_type": "code",
   "execution_count": 325,
   "metadata": {},
   "outputs": [
    {
     "data": {
      "text/plain": [
       "44"
      ]
     },
     "execution_count": 325,
     "metadata": {},
     "output_type": "execute_result"
    }
   ],
   "source": [
    "df_product[\"DEPARTMENT\"].nunique()"
   ]
  },
  {
   "cell_type": "code",
   "execution_count": 326,
   "metadata": {},
   "outputs": [],
   "source": [
    "# Preprocess the text to make it all lower case and remove leading/trailing spaces\n",
    "frequence_produits = df_trnsct.merge(df_product, how=\"left\", on=\"PRODUCT_ID\")[\n",
    "    \"DEPARTMENT\"\n",
    "]\n",
    "frequence_produits = \" \".join(v for v in frequence_produits)"
   ]
  },
  {
   "cell_type": "code",
   "execution_count": 327,
   "metadata": {},
   "outputs": [
    {
     "data": {
      "image/png": "[encoded data removed]",
      "text/plain": [
       "<Figure size 1200x800 with 1 Axes>"
      ]
     },
     "metadata": {},
     "output_type": "display_data"
    }
   ],
   "source": [
    "# Preprocess the text to make it all lower case and remove leading/trailing spaces\n",
    "frequence_produits = np.log(\n",
    "    df_trnsct.merge(df_product, how=\"left\", on=\"PRODUCT_ID\")[\n",
    "        \"DEPARTMENT\"\n",
    "    ].value_counts()\n",
    ")\n",
    "\n",
    "mask = np.invert(np.array(Image.open(\"../Assets/WordCloudMask.png\")))[::, 150:850]\n",
    "wordcloud = WordCloud(\n",
    "    background_color=\"white\",\n",
    "    mask=mask,\n",
    "    contour_color=\"#263238\",\n",
    "    contour_width=10,\n",
    ").generate_from_frequencies(frequence_produits)\n",
    "\n",
    "plt.figure(figsize=(12, 8))\n",
    "plt.imshow(wordcloud, interpolation=\"bilinear\")\n",
    "plt.axis(\"off\")\n",
    "plt.show()"
   ]
  },
  {
   "cell_type": "markdown",
   "metadata": {},
   "source": [
    "## 3. Chiffre d'affaire "
   ]
  },
  {
   "cell_type": "code",
   "execution_count": 328,
   "metadata": {},
   "outputs": [
    {
     "data": {
      "text/html": [
       "<div>\n",
       "<style scoped>\n",
       "    .dataframe tbody tr th:only-of-type {\n",
       "        vertical-align: middle;\n",
       "    }\n",
       "\n",
       "    .dataframe tbody tr th {\n",
       "        vertical-align: top;\n",
       "    }\n",
       "\n",
       "    .dataframe thead th {\n",
       "        text-align: right;\n",
       "    }\n",
       "</style>\n",
       "<table border=\"1\" class=\"dataframe\">\n",
       "  <thead>\n",
       "    <tr style=\"text-align: right;\">\n",
       "      <th></th>\n",
       "      <th>TRANS_DATE</th>\n",
       "      <th>SALES_VALUE</th>\n",
       "    </tr>\n",
       "  </thead>\n",
       "  <tbody>\n",
       "    <tr>\n",
       "      <th>0</th>\n",
       "      <td>2012-01-02</td>\n",
       "      <td>549.31</td>\n",
       "    </tr>\n",
       "    <tr>\n",
       "      <th>1</th>\n",
       "      <td>2012-01-03</td>\n",
       "      <td>458.91</td>\n",
       "    </tr>\n",
       "    <tr>\n",
       "      <th>2</th>\n",
       "      <td>2012-01-04</td>\n",
       "      <td>1560.37</td>\n",
       "    </tr>\n",
       "  </tbody>\n",
       "</table>\n",
       "</div>"
      ],
      "text/plain": [
       "  TRANS_DATE  SALES_VALUE\n",
       "0 2012-01-02       549.31\n",
       "1 2012-01-03       458.91\n",
       "2 2012-01-04      1560.37"
      ]
     },
     "execution_count": 328,
     "metadata": {},
     "output_type": "execute_result"
    }
   ],
   "source": [
    "daily_sales.head(3)"
   ]
  },
  {
   "cell_type": "code",
   "execution_count": 329,
   "metadata": {},
   "outputs": [
    {
     "data": {
      "text/html": [
       "<div>\n",
       "<style scoped>\n",
       "    .dataframe tbody tr th:only-of-type {\n",
       "        vertical-align: middle;\n",
       "    }\n",
       "\n",
       "    .dataframe tbody tr th {\n",
       "        vertical-align: top;\n",
       "    }\n",
       "\n",
       "    .dataframe thead th {\n",
       "        text-align: right;\n",
       "    }\n",
       "</style>\n",
       "<table border=\"1\" class=\"dataframe\">\n",
       "  <thead>\n",
       "    <tr style=\"text-align: right;\">\n",
       "      <th></th>\n",
       "      <th>TRANS_DATE</th>\n",
       "      <th>SALES_VALUE</th>\n",
       "    </tr>\n",
       "  </thead>\n",
       "  <tbody>\n",
       "    <tr>\n",
       "      <th>0</th>\n",
       "      <td>2012-01-02</td>\n",
       "      <td>549.31</td>\n",
       "    </tr>\n",
       "    <tr>\n",
       "      <th>1</th>\n",
       "      <td>2012-01-03</td>\n",
       "      <td>458.91</td>\n",
       "    </tr>\n",
       "    <tr>\n",
       "      <th>2</th>\n",
       "      <td>2012-01-04</td>\n",
       "      <td>1560.37</td>\n",
       "    </tr>\n",
       "  </tbody>\n",
       "</table>\n",
       "</div>"
      ],
      "text/plain": [
       "  TRANS_DATE  SALES_VALUE\n",
       "0 2012-01-02       549.31\n",
       "1 2012-01-03       458.91\n",
       "2 2012-01-04      1560.37"
      ]
     },
     "execution_count": 329,
     "metadata": {},
     "output_type": "execute_result"
    }
   ],
   "source": [
    "daily_sales.head(3)"
   ]
  },
  {
   "cell_type": "markdown",
   "metadata": {},
   "source": [
    "## 4. New Customers"
   ]
  },
  {
   "cell_type": "code",
   "execution_count": 330,
   "metadata": {},
   "outputs": [
    {
     "data": {
      "text/html": [
       "<div>\n",
       "<style scoped>\n",
       "    .dataframe tbody tr th:only-of-type {\n",
       "        vertical-align: middle;\n",
       "    }\n",
       "\n",
       "    .dataframe tbody tr th {\n",
       "        vertical-align: top;\n",
       "    }\n",
       "\n",
       "    .dataframe thead th {\n",
       "        text-align: right;\n",
       "    }\n",
       "</style>\n",
       "<table border=\"1\" class=\"dataframe\">\n",
       "  <thead>\n",
       "    <tr style=\"text-align: right;\">\n",
       "      <th></th>\n",
       "      <th>Day_of_first_purchase</th>\n",
       "    </tr>\n",
       "    <tr>\n",
       "      <th>household_key</th>\n",
       "      <th></th>\n",
       "    </tr>\n",
       "  </thead>\n",
       "  <tbody>\n",
       "    <tr>\n",
       "      <th>1</th>\n",
       "      <td>2012-02-21</td>\n",
       "    </tr>\n",
       "    <tr>\n",
       "      <th>2</th>\n",
       "      <td>2012-04-13</td>\n",
       "    </tr>\n",
       "    <tr>\n",
       "      <th>3</th>\n",
       "      <td>2012-04-23</td>\n",
       "    </tr>\n",
       "    <tr>\n",
       "      <th>4</th>\n",
       "      <td>2012-04-14</td>\n",
       "    </tr>\n",
       "    <tr>\n",
       "      <th>5</th>\n",
       "      <td>2012-03-26</td>\n",
       "    </tr>\n",
       "    <tr>\n",
       "      <th>...</th>\n",
       "      <td>...</td>\n",
       "    </tr>\n",
       "    <tr>\n",
       "      <th>2496</th>\n",
       "      <td>2012-04-27</td>\n",
       "    </tr>\n",
       "    <tr>\n",
       "      <th>2497</th>\n",
       "      <td>2012-03-19</td>\n",
       "    </tr>\n",
       "    <tr>\n",
       "      <th>2498</th>\n",
       "      <td>2012-04-15</td>\n",
       "    </tr>\n",
       "    <tr>\n",
       "      <th>2499</th>\n",
       "      <td>2012-03-11</td>\n",
       "    </tr>\n",
       "    <tr>\n",
       "      <th>2500</th>\n",
       "      <td>2012-03-20</td>\n",
       "    </tr>\n",
       "  </tbody>\n",
       "</table>\n",
       "<p>2500 rows × 1 columns</p>\n",
       "</div>"
      ],
      "text/plain": [
       "              Day_of_first_purchase\n",
       "household_key                      \n",
       "1                        2012-02-21\n",
       "2                        2012-04-13\n",
       "3                        2012-04-23\n",
       "4                        2012-04-14\n",
       "5                        2012-03-26\n",
       "...                             ...\n",
       "2496                     2012-04-27\n",
       "2497                     2012-03-19\n",
       "2498                     2012-04-15\n",
       "2499                     2012-03-11\n",
       "2500                     2012-03-20\n",
       "\n",
       "[2500 rows x 1 columns]"
      ]
     },
     "execution_count": 330,
     "metadata": {},
     "output_type": "execute_result"
    }
   ],
   "source": [
    "customer_first_date"
   ]
  },
  {
   "cell_type": "markdown",
   "metadata": {},
   "source": [
    "---"
   ]
  },
  {
   "cell_type": "markdown",
   "metadata": {},
   "source": [
    "# **<span > Préprocessing of paragraph from PDF</span>**\n"
   ]
  },
  {
   "cell_type": "code",
   "execution_count": 331,
   "metadata": {},
   "outputs": [],
   "source": [
    "from unidecode import unidecode\n",
    "import re\n",
    "from nltk.stem import SnowballStemmer"
   ]
  },
  {
   "cell_type": "markdown",
   "metadata": {},
   "source": [
    "### **<span >1. Corpus creation and exploration of data</span>**\n"
   ]
  },
  {
   "cell_type": "code",
   "execution_count": 332,
   "metadata": {},
   "outputs": [
    {
     "name": "stdout",
     "output_type": "stream",
     "text": [
      "Corpus contains 3 paragraphs.\n"
     ]
    }
   ],
   "source": [
    "def count_paragraphs(corpus):\n",
    "    return len(corpus)\n",
    "\n",
    "# Example from PDF description of dataset:\n",
    "corpus = [\n",
    "    \"This dataset contains household level transactions over two years from a group of 2500 households who are frequent shoppers at a retailer. It contains all of each households purchases, not just those from a limited number of categories. For certain households, demographic information as well as direct marketing contact history are included.\",\n",
    "    \"Due to the number of tables and the overall complexity of The Complete Journey, it is suggested that this database be used in more advanced classroom settings. Further, The Complete Journey would be ideal for academic research as it should enable one to study the effects of direct marketing to customers.\",\n",
    "    \"The following are examples of questions that could be submitted to students or considered for academic research: How many customers are spending more over time? Less over time? Describe these customers. Of those customers who are spending more over time, which categories are growing at a faster rate? Of those customers who are spending less over time, with which categories are they becoming less engaged? Which demographic factors (e.g. household size, presence of children, income) appear to affect customer spend? Engagement with certain categories? Is there evidence to suggest that direct marketing improves overall engagement?\"\n",
    "]\n",
    "\n",
    "\n",
    "num_paragraphs = count_paragraphs(corpus)\n",
    "print(f\"Corpus contains {num_paragraphs} paragraphs.\")"
   ]
  },
  {
   "cell_type": "markdown",
   "metadata": {},
   "source": [
    "#### We could analyse also the lengh of text to know the number of words"
   ]
  },
  {
   "cell_type": "code",
   "execution_count": 333,
   "metadata": {},
   "outputs": [
    {
     "name": "stdout",
     "output_type": "stream",
     "text": [
      "Text 1 lenghts : 342\n",
      "Text 2 lenghts : 305\n",
      "Text 3 lenghts : 634\n"
     ]
    }
   ],
   "source": [
    "i = 1\n",
    "\n",
    "for doc in corpus:\n",
    "    print(f\"Text {i} lenghts : {len(doc)}\")\n",
    "    i+=1"
   ]
  },
  {
   "cell_type": "markdown",
   "metadata": {},
   "source": [
    "We could format the corpus text to create a separation between words:"
   ]
  },
  {
   "cell_type": "code",
   "execution_count": 334,
   "metadata": {},
   "outputs": [
    {
     "name": "stdout",
     "output_type": "stream",
     "text": [
      "The paragraph 1 contain 52 words\n",
      "List of word in paragraph 1 : ['This', 'dataset', 'contains', 'household', 'level', 'transactions', 'over', 'two', 'years', 'from', 'a', 'group', 'of', '2500', 'households', 'who', 'are', 'frequent', 'shoppers', 'at', 'a', 'retailer.', 'It', 'contains', 'all', 'of', 'each', 'households', 'purchases,', 'not', 'just', 'those', 'from', 'a', 'limited', 'number', 'of', 'categories.', 'For', 'certain', 'households,', 'demographic', 'information', 'as', 'well', 'as', 'direct', 'marketing', 'contact', 'history', 'are', 'included.'] \n",
      "\n",
      "The paragraph 2 contain 51 words\n",
      "List of word in paragraph 2 : ['Due', 'to', 'the', 'number', 'of', 'tables', 'and', 'the', 'overall', 'complexity', 'of', 'The', 'Complete', 'Journey,', 'it', 'is', 'suggested', 'that', 'this', 'database', 'be', 'used', 'in', 'more', 'advanced', 'classroom', 'settings.', 'Further,', 'The', 'Complete', 'Journey', 'would', 'be', 'ideal', 'for', 'academic', 'research', 'as', 'it', 'should', 'enable', 'one', 'to', 'study', 'the', 'effects', 'of', 'direct', 'marketing', 'to', 'customers.'] \n",
      "\n",
      "The paragraph 3 contain 95 words\n",
      "List of word in paragraph 3 : ['The', 'following', 'are', 'examples', 'of', 'questions', 'that', 'could', 'be', 'submitted', 'to', 'students', 'or', 'considered', 'for', 'academic', 'research:', 'How', 'many', 'customers', 'are', 'spending', 'more', 'over', 'time?', 'Less', 'over', 'time?', 'Describe', 'these', 'customers.', 'Of', 'those', 'customers', 'who', 'are', 'spending', 'more', 'over', 'time,', 'which', 'categories', 'are', 'growing', 'at', 'a', 'faster', 'rate?', 'Of', 'those', 'customers', 'who', 'are', 'spending', 'less', 'over', 'time,', 'with', 'which', 'categories', 'are', 'they', 'becoming', 'less', 'engaged?', 'Which', 'demographic', 'factors', '(e.g.', 'household', 'size,', 'presence', 'of', 'children,', 'income)', 'appear', 'to', 'affect', 'customer', 'spend?', 'Engagement', 'with', 'certain', 'categories?', 'Is', 'there', 'evidence', 'to', 'suggest', 'that', 'direct', 'marketing', 'improves', 'overall', 'engagement?'] \n",
      "\n"
     ]
    }
   ],
   "source": [
    "i = 1\n",
    "\n",
    "for doc in corpus:\n",
    "    word_list = doc.split() # Separates words in a string using a separator \n",
    "                             # default is space.\n",
    "        \n",
    "    print(f\"The paragraph {i} contain {len(word_list)} words\")\n",
    "    print(f\"List of word in paragraph {i} : {word_list } \\n\")\n",
    "    i+=1"
   ]
  },
  {
   "cell_type": "markdown",
   "metadata": {},
   "source": [
    "We decide also to clean the data in order to normalize the document to exploit data on visualisation or modelisation"
   ]
  },
  {
   "cell_type": "code",
   "execution_count": 335,
   "metadata": {},
   "outputs": [
    {
     "data": {
      "text/plain": [
       "['this dataset contains household level transactions over two years from a group of 2500 households who are frequent shoppers at a retailer. it contains all of each households purchases, not just those from a limited number of categories. for certain households, demographic information as well as direct marketing contact history are included.',\n",
       " 'due to the number of tables and the overall complexity of the complete journey, it is suggested that this database be used in more advanced classroom settings. further, the complete journey would be ideal for academic research as it should enable one to study the effects of direct marketing to customers.',\n",
       " 'the following are examples of questions that could be submitted to students or considered for academic research: how many customers are spending more over time? less over time? describe these customers. of those customers who are spending more over time, which categories are growing at a faster rate? of those customers who are spending less over time, with which categories are they becoming less engaged? which demographic factors (e.g. household size, presence of children, income) appear to affect customer spend? engagement with certain categories? is there evidence to suggest that direct marketing improves overall engagement?']"
      ]
     },
     "execution_count": 335,
     "metadata": {},
     "output_type": "execute_result"
    }
   ],
   "source": [
    "word_list= [] # list initialization\n",
    "\n",
    "for doc in corpus:\n",
    "    word_list.append(doc.lower()) \n",
    "    \n",
    "word_list"
   ]
  },
  {
   "cell_type": "code",
   "execution_count": 336,
   "metadata": {},
   "outputs": [
    {
     "name": "stdout",
     "output_type": "stream",
     "text": [
      "Document type 1 is <class 'str'>, Let's continue\n",
      "Document type 2 is <class 'str'>, Let's continue\n",
      "Document type 3 is <class 'str'>, Let's continue\n"
     ]
    }
   ],
   "source": [
    "# Check if document is str\n",
    "i = 1\n",
    "\n",
    "for doc in word_list:\n",
    "    if type(doc) == str:\n",
    "        print(f\"Document type {i} is {type(doc)}, Let's continue\" )\n",
    "    else :\n",
    "        print(f\"Document type {i} is {type(doc)}, Convert your data\" )\n",
    "        \n",
    "    i+=1"
   ]
  },
  {
   "cell_type": "markdown",
   "metadata": {},
   "source": [
    "#### to use the data we will remove accent:"
   ]
  },
  {
   "cell_type": "code",
   "execution_count": 337,
   "metadata": {},
   "outputs": [
    {
     "data": {
      "text/plain": [
       "['This dataset contains household level transactions over two years from a group of 2500 households who are frequent shoppers at a retailer. It contains all of each households purchases, not just those from a limited number of categories. For certain households, demographic information as well as direct marketing contact history are included.',\n",
       " 'Due to the number of tables and the overall complexity of The Complete Journey, it is suggested that this database be used in more advanced classroom settings. Further, The Complete Journey would be ideal for academic research as it should enable one to study the effects of direct marketing to customers.',\n",
       " 'The following are examples of questions that could be submitted to students or considered for academic research: How many customers are spending more over time? Less over time? Describe these customers. Of those customers who are spending more over time, which categories are growing at a faster rate? Of those customers who are spending less over time, with which categories are they becoming less engaged? Which demographic factors (e.g. household size, presence of children, income) appear to affect customer spend? Engagement with certain categories? Is there evidence to suggest that direct marketing improves overall engagement?']"
      ]
     },
     "execution_count": 337,
     "metadata": {},
     "output_type": "execute_result"
    }
   ],
   "source": [
    "word_list = [unidecode(doc) for doc in corpus]\n",
    "\n",
    "word_list"
   ]
  },
  {
   "cell_type": "markdown",
   "metadata": {},
   "source": [
    "#### to use the data we will remove stop words:"
   ]
  },
  {
   "cell_type": "code",
   "execution_count": 338,
   "metadata": {},
   "outputs": [
    {
     "name": "stdout",
     "output_type": "stream",
     "text": [
      "Cleaned word list:\n",
      "dataset contains household level transactions two years group 2500 households frequent shoppers retailer. contains households purchases, just limited number categories. certain households, demographic information well direct marketing contact history included.\n",
      "Due number tables overall complexity Complete Journey, suggested database used advanced classroom settings. Further, Complete Journey ideal academic research enable one study effects direct marketing customers.\n",
      "following examples questions submitted students considered academic research: many customers spending time? Less time? Describe customers. customers spending time, categories growing faster rate? customers spending less time, categories becoming less engaged? demographic factors (e.g. household size, presence children, income) appear affect customer spend? Engagement certain categories? evidence suggest direct marketing improves overall engagement?\n"
     ]
    }
   ],
   "source": [
    "def remove_stop_words(text):\n",
    "    # Define stop words set\n",
    "    stop_words = {\n",
    "        \"a\", \"about\", \"above\", \"after\", \"again\", \"against\", \"all\", \"am\", \"an\", \"and\", \"any\", \n",
    "        \"are\", \"aren't\", \"as\", \"at\", \"be\", \"because\", \"been\", \"before\", \"being\", \"below\", \n",
    "        \"between\", \"both\", \"but\", \"by\", \"can't\", \"cannot\", \"could\", \"couldn't\", \"did\", \n",
    "        \"didn't\", \"do\", \"does\", \"doesn't\", \"doing\", \"don't\", \"down\", \"during\", \"each\", \n",
    "        \"few\", \"for\", \"from\", \"further\", \"had\", \"hadn't\", \"has\", \"hasn't\", \"have\", \n",
    "        \"haven't\", \"having\", \"he\", \"he'd\", \"he'll\", \"he's\", \"her\", \"here\", \"here's\", \n",
    "        \"hers\", \"herself\", \"him\", \"himself\", \"his\", \"how\", \"how's\", \"i\", \"i'd\", \"i'll\", \n",
    "        \"i'm\", \"i've\", \"if\", \"in\", \"into\", \"is\", \"isn't\", \"it\", \"it's\", \"its\", \"itself\", \n",
    "        \"let's\", \"me\", \"more\", \"most\", \"mustn't\", \"my\", \"myself\", \"no\", \"nor\", \"not\", \n",
    "        \"of\", \"off\", \"on\", \"once\", \"only\", \"or\", \"other\", \"ought\", \"our\", \"ours\", \n",
    "        \"ourselves\", \"out\", \"over\", \"own\", \"same\", \"shan't\", \"she\", \"she'd\", \"she'll\", \n",
    "        \"she's\", \"should\", \"shouldn't\", \"so\", \"some\", \"such\", \"than\", \"that\", \"that's\", \n",
    "        \"the\", \"their\", \"theirs\", \"them\", \"themselves\", \"then\", \"there\", \"there's\", \n",
    "        \"these\", \"they\", \"they'd\", \"they'll\", \"they're\", \"they've\", \"this\", \"those\", \n",
    "        \"through\", \"to\", \"too\", \"under\", \"until\", \"up\", \"very\", \"was\", \"wasn't\", \"we\", \n",
    "        \"we'd\", \"we'll\", \"we're\", \"we've\", \"were\", \"weren't\", \"what\", \"what's\", \"when\", \n",
    "        \"when's\", \"where\", \"where's\", \"which\", \"while\", \"who\", \"who's\", \"whom\", \"why\", \n",
    "        \"why's\", \"with\", \"won't\", \"would\", \"wouldn't\", \"you\", \"you'd\", \"you'll\", \"you're\", \n",
    "        \"you've\", \"your\", \"yours\", \"yourself\", \"yourselves\"\n",
    "    }\n",
    "    \n",
    "    # Split text into words, remove stop words, and join back into a string\n",
    "    words = text.split()\n",
    "    filtered_words = [word for word in words if word.lower() not in stop_words]\n",
    "    cleaned_text = ' '.join(filtered_words)\n",
    "    \n",
    "    return cleaned_text\n",
    "    \n",
    "\n",
    "# Example usage:\n",
    "word_list = [\n",
    "    'This dataset contains household level transactions over two years from a group of 2500 households who are frequent shoppers at a retailer. It contains all of each households purchases, not just those from a limited number of categories. For certain households, demographic information as well as direct marketing contact history are included.',\n",
    "    'Due to the number of tables and the overall complexity of The Complete Journey, it is suggested that this database be used in more advanced classroom settings. Further, The Complete Journey would be ideal for academic research as it should enable one to study the effects of direct marketing to customers.',\n",
    "    'The following are examples of questions that could be submitted to students or considered for academic research: How many customers are spending more over time? Less over time? Describe these customers. Of those customers who are spending more over time, which categories are growing at a faster rate? Of those customers who are spending less over time, with which categories are they becoming less engaged? Which demographic factors (e.g. household size, presence of children, income) appear to affect customer spend? Engagement with certain categories? Is there evidence to suggest that direct marketing improves overall engagement?'\n",
    "]\n",
    "\n",
    "cleaned_word_list = [remove_stop_words(text) for text in word_list]\n",
    "print(\"Cleaned word list:\")\n",
    "for cleaned_text in cleaned_word_list:\n",
    "    print(cleaned_text)\n"
   ]
  },
  {
   "cell_type": "code",
   "execution_count": 339,
   "metadata": {},
   "outputs": [
    {
     "name": "stdout",
     "output_type": "stream",
     "text": [
      "Cleaned word list:\n",
      "dataset contains household level transactions two years group  households frequent shoppers retailer contains households purchases just limited number categories certain households demographic information well direct marketing contact history included\n",
      "Due number tables overall complexity Complete Journey suggested database used advanced classroom settings Further Complete Journey ideal academic research enable one study effects direct marketing customers\n",
      "following examples questions submitted students considered academic research many customers spending time Less time Describe customers customers spending time categories growing faster rate customers spending less time categories becoming less engaged demographic factors eg household size presence children income appear affect customer spend Engagement certain categories evidence suggest direct marketing improves overall engagement\n"
     ]
    }
   ],
   "source": [
    "def clean_text(text):\n",
    "    # Remove special characters except whitespace and letters\n",
    "    cleaned_text = re.sub(r'[^a-zA-Z\\s]', '', text)\n",
    "    \n",
    "    return cleaned_text\n",
    "\n",
    "# Example usage:\n",
    "word_list = [\n",
    "    'dataset contains household level transactions two years group 2500 households frequent shoppers retailer. contains households purchases, just limited number categories. certain households, demographic information well direct marketing contact history included.',\n",
    "    'Due number tables overall complexity Complete Journey, suggested database used advanced classroom settings. Further, Complete Journey ideal academic research enable one study effects direct marketing customers.',\n",
    "    'following examples questions submitted students considered academic research: many customers spending time? Less time? Describe customers. customers spending time, categories growing faster rate? customers spending less time, categories becoming less engaged? demographic factors (e.g. household size, presence children, income) appear affect customer spend? Engagement certain categories? evidence suggest direct marketing improves overall engagement?'\n",
    "]\n",
    "\n",
    "cleaned_word_list = [clean_text(text) for text in word_list]\n",
    "print(\"Cleaned word list:\")\n",
    "for cleaned_text in cleaned_word_list:\n",
    "    print(cleaned_text)"
   ]
  },
  {
   "cell_type": "code",
   "execution_count": 340,
   "metadata": {},
   "outputs": [
    {
     "data": {
      "text/plain": [
       "['dataset contains household level transactions two years group  households frequent shoppers retailer contains households purchases just limited number categories certain households demographic information well direct marketing contact history included',\n",
       " 'Due number tables overall complexity Complete Journey suggested database used advanced classroom settings Further Complete Journey ideal academic research enable one study effects direct marketing customers',\n",
       " 'following examples questions submitted students considered academic research many customers spending time Less time Describe customers customers spending time categories growing faster rate customers spending less time categories becoming less engaged demographic factors eg household size presence children income appear affect customer spend Engagement certain categories evidence suggest direct marketing improves overall engagement']"
      ]
     },
     "execution_count": 340,
     "metadata": {},
     "output_type": "execute_result"
    }
   ],
   "source": [
    "cleaned_word_list"
   ]
  },
  {
   "cell_type": "code",
   "execution_count": 341,
   "metadata": {},
   "outputs": [
    {
     "data": {
      "text/plain": [
       "['dataset contain household level transact two year group household frequent shopper retail contain household purchas just limit number categori certain household demograph inform well direct market contact histori includ',\n",
       " 'due number tabl overal complex complet journey suggest databas use advanc classroom set further complet journey ideal academ research enabl one studi effect direct market custom',\n",
       " 'follow exampl question submit student consid academ research mani custom spend time less time describ custom custom spend time categori grow faster rate custom spend less time categori becom less engag demograph factor eg household size presenc children incom appear affect custom spend engag certain categori evid suggest direct market improv overal engag']"
      ]
     },
     "execution_count": 341,
     "metadata": {},
     "output_type": "execute_result"
    }
   ],
   "source": [
    "stemmer = SnowballStemmer('english') # Vous initialisez le stemmer en anglais\n",
    "\n",
    "cleaned_word_list = [\" \".join([stemmer.stem(word) for word in doc.split()]) for doc in cleaned_word_list]\n",
    "\n",
    "cleaned_word_list"
   ]
  },
  {
   "cell_type": "markdown",
   "metadata": {},
   "source": [
    "##### The document has been stemmed by Python function, this set of words could be use now"
   ]
  },
  {
   "cell_type": "markdown",
   "metadata": {},
   "source": [
    "---"
   ]
  },
  {
   "cell_type": "markdown",
   "metadata": {},
   "source": [
    "# Export"
   ]
  },
  {
   "cell_type": "markdown",
   "metadata": {},
   "source": [
    "### Export the processed datasets to use in the streamlit dashboard"
   ]
  },
  {
   "cell_type": "code",
   "execution_count": 342,
   "metadata": {},
   "outputs": [
    {
     "name": "stdout",
     "output_type": "stream",
     "text": [
      "Exported hh_demographic_cleaned.csv\n"
     ]
    }
   ],
   "source": [
    "df_demographic.to_csv(export_folder + \"hh_demographic_cleaned.csv\",index=False)\n",
    "print(\"Exported hh_demographic_cleaned.csv\")"
   ]
  },
  {
   "cell_type": "code",
   "execution_count": 343,
   "metadata": {},
   "outputs": [
    {
     "name": "stdout",
     "output_type": "stream",
     "text": [
      "Exported transaction_data_cleaned.csv\n"
     ]
    }
   ],
   "source": [
    "df_trnsct.to_csv(export_folder + \"transaction_data_cleaned.csv\",index=False)\n",
    "print(\"Exported transaction_data_cleaned.csv\")"
   ]
  },
  {
   "cell_type": "code",
   "execution_count": 344,
   "metadata": {},
   "outputs": [
    {
     "name": "stdout",
     "output_type": "stream",
     "text": [
      "Exported daily_sales.csv\n"
     ]
    }
   ],
   "source": [
    "daily_sales.to_csv(export_folder + \"daily_sales.csv\",index=False)\n",
    "print(\"Exported daily_sales.csv\")"
   ]
  },
  {
   "cell_type": "code",
   "execution_count": 345,
   "metadata": {},
   "outputs": [
    {
     "name": "stdout",
     "output_type": "stream",
     "text": [
      "Exported customer_acquisition.csv\n"
     ]
    }
   ],
   "source": [
    "df_customer_acquisition.to_csv(export_folder + \"customer_acquisition.csv\",index=False)\n",
    "print(\"Exported customer_acquisition.csv\")"
   ]
  },
  {
   "cell_type": "code",
   "execution_count": 346,
   "metadata": {},
   "outputs": [
    {
     "name": "stdout",
     "output_type": "stream",
     "text": [
      "Exported product_cleaned.csv\n"
     ]
    }
   ],
   "source": [
    "df_product.to_csv(export_folder + \"product_cleaned.csv\",index=False)\n",
    "print(\"Exported product_cleaned.csv\")"
   ]
  }
 ],
 "metadata": {
  "kernelspec": {
   "display_name": "Python 3 (ipykernel)",
   "language": "python",
   "name": "python3"
  },
  "language_info": {
   "codemirror_mode": {
    "name": "ipython",
    "version": 3
   },
   "file_extension": ".py",
   "mimetype": "text/x-python",
   "name": "python",
   "nbconvert_exporter": "python",
   "pygments_lexer": "ipython3",
   "version": "3.11.6"
  }
 },
 "nbformat": 4,
 "nbformat_minor": 4
}
